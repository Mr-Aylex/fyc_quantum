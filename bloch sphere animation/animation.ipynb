{
 "cells": [
  {
   "cell_type": "code",
   "outputs": [],
   "source": [
    "from qutip import Bloch, Qobj\n",
    "from qutip.qip.operations import rz, rx, ry\n",
    "import numpy as np\n",
    "import qutip\n",
    "from tqdm import tqdm"
   ],
   "metadata": {
    "collapsed": false,
    "ExecuteTime": {
     "end_time": "2023-12-30T19:33:49.250266800Z",
     "start_time": "2023-12-30T19:33:48.732168700Z"
    }
   },
   "id": "b9efb41f3c7b46ab",
   "execution_count": 1
  },
  {
   "cell_type": "code",
   "outputs": [],
   "source": [
    "def draw_axis_circle(state:Qobj, sphere:Bloch, axis:str):\n",
    "    \n",
    "    if axis == 'x':\n",
    "       gate = rx\n",
    "    elif axis == 'y':\n",
    "       gate = ry\n",
    "    elif axis == 'z':\n",
    "       gate = rz\n",
    "    else:\n",
    "        raise Exception\n",
    "    sample_length = 30\n",
    "    temp_sphere = Bloch()\n",
    "    for n in range(0, sample_length + 2):\n",
    "        state_p = gate((2*np.pi)/sample_length*n) * state\n",
    "        temp_sphere.add_states(state_p)\n",
    "    points_vect = temp_sphere.vectors\n",
    "    \n",
    "    points_vect = np.array(points_vect)\n",
    "    points_vect_p = np.zeros((3, sample_length + 2))\n",
    "    points_vect_p[0] = points_vect[:, 0]\n",
    "    points_vect_p[1] = points_vect[:, 1]\n",
    "    points_vect_p[2] = points_vect[: ,2]\n",
    "        \n",
    "    sphere.add_points(points_vect_p, meth='l')"
   ],
   "metadata": {
    "collapsed": false,
    "ExecuteTime": {
     "end_time": "2023-12-30T19:33:49.257267500Z",
     "start_time": "2023-12-30T19:33:49.253267800Z"
    }
   },
   "id": "6d17e19008817b24",
   "execution_count": 2
  },
  {
   "cell_type": "code",
   "outputs": [
    {
     "name": "stderr",
     "output_type": "stream",
     "text": [
      "100%|██████████| 101/101 [00:14<00:00,  7.15it/s]\n"
     ]
    }
   ],
   "source": [
    "state = Qobj([[np.sqrt(0.3)], [np.sqrt(0.7)*1j]])\n",
    "\n",
    "b = Bloch()\n",
    "\n",
    "b.add_states(state)\n",
    "\n",
    "sample_size = 100\n",
    "theta = np.pi / sample_size\n",
    "\n",
    "b.view = [-40, 30]\n",
    "for i in tqdm(range(0, sample_size + 1)):\n",
    "    b.clear()\n",
    "    \n",
    "    state_p = ry(theta * i) * state\n",
    "    state_p = rz(theta * i) * state_p\n",
    "    \n",
    "    draw_axis_circle(state_p, b, 'x')\n",
    "    draw_axis_circle(state_p, b, 'y')\n",
    "    draw_axis_circle(state_p, b, 'z')\n",
    "    \n",
    "    b.add_states(state_p)\n",
    "    \n",
    "    b.save(dirc='temp')  # saving images to temp directory in current working directory"
   ],
   "metadata": {
    "collapsed": false,
    "ExecuteTime": {
     "end_time": "2023-12-30T19:34:03.394420600Z",
     "start_time": "2023-12-30T19:33:49.257267500Z"
    }
   },
   "id": "5c754983a6715f3b",
   "execution_count": 3
  },
  {
   "cell_type": "code",
   "outputs": [
    {
     "name": "stdout",
     "output_type": "stream",
     "text": [
      "/bin/bash: warning: setlocale: LC_ALL: cannot change locale (en_US.UTF-8)\r\n",
      "ffmpeg version 4.4.2-0ubuntu0.22.04.1 Copyright (c) 2000-2021 the FFmpeg developers\r\n",
      "  built with gcc 11 (Ubuntu 11.2.0-19ubuntu1)\r\n",
      "  configuration: --prefix=/usr --extra-version=0ubuntu0.22.04.1 --toolchain=hardened --libdir=/usr/lib/x86_64-linux-gnu --incdir=/usr/include/x86_64-linux-gnu --arch=amd64 --enable-gpl --disable-stripping --enable-gnutls --enable-ladspa --enable-libaom --enable-libass --enable-libbluray --enable-libbs2b --enable-libcaca --enable-libcdio --enable-libcodec2 --enable-libdav1d --enable-libflite --enable-libfontconfig --enable-libfreetype --enable-libfribidi --enable-libgme --enable-libgsm --enable-libjack --enable-libmp3lame --enable-libmysofa --enable-libopenjpeg --enable-libopenmpt --enable-libopus --enable-libpulse --enable-librabbitmq --enable-librubberband --enable-libshine --enable-libsnappy --enable-libsoxr --enable-libspeex --enable-libsrt --enable-libssh --enable-libtheora --enable-libtwolame --enable-libvidstab --enable-libvorbis --enable-libvpx --enable-libwebp --enable-libx265 --enable-libxml2 --enable-libxvid --enable-libzimg --enable-libzmq --enable-libzvbi --enable-lv2 --enable-omx --enable-openal --enable-opencl --enable-opengl --enable-sdl2 --enable-pocketsphinx --enable-librsvg --enable-libmfx --enable-libdc1394 --enable-libdrm --enable-libiec61883 --enable-chromaprint --enable-frei0r --enable-libx264 --enable-shared\r\n",
      "  libavutil      56. 70.100 / 56. 70.100\r\n",
      "  libavcodec     58.134.100 / 58.134.100\r\n",
      "  libavformat    58. 76.100 / 58. 76.100\r\n",
      "  libavdevice    58. 13.100 / 58. 13.100\r\n",
      "  libavfilter     7.110.100 /  7.110.100\r\n",
      "  libswscale      5.  9.100 /  5.  9.100\r\n",
      "  libswresample   3.  9.100 /  3.  9.100\r\n",
      "  libpostproc    55.  9.100 / 55.  9.100\r\n",
      "Input #0, image2, from 'temp/bloch_%01d.png':\r\n",
      "  Duration: 00:00:04.04, start: 0.000000, bitrate: N/A\r\n",
      "  Stream #0:0: Video: png, rgba(pc), 500x500 [SAR 3937:3937 DAR 1:1], 25 fps, 25 tbr, 25 tbn, 25 tbc\r\n",
      "Stream mapping:\r\n",
      "  Stream #0:0 -> #0:0 (png (native) -> h264 (libx264))\r\n",
      "Press [q] to stop, [?] for help\r\n",
      "\u001B[1;36m[libx264 @ 0x555ba6797e00] \u001B[0musing SAR=1/1\r\n",
      "\u001B[1;36m[libx264 @ 0x555ba6797e00] \u001B[0musing cpu capabilities: MMX2 SSE2Fast SSSE3 SSE4.2 AVX FMA3 BMI2 AVX2\r\n",
      "\u001B[1;36m[libx264 @ 0x555ba6797e00] \u001B[0mprofile High 4:4:4 Predictive, level 3.0, 4:4:4, 8-bit\r\n",
      "\u001B[1;36m[libx264 @ 0x555ba6797e00] \u001B[0m264 - core 163 r3060 5db6aa6 - H.264/MPEG-4 AVC codec - Copyleft 2003-2021 - http://www.videolan.org/x264.html - options: cabac=1 ref=3 deblock=1:0:0 analyse=0x3:0x113 me=hex subme=7 psy=1 psy_rd=1.00:0.00 mixed_ref=1 me_range=16 chroma_me=1 trellis=1 8x8dct=1 cqm=0 deadzone=21,11 fast_pskip=1 chroma_qp_offset=4 threads=16 lookahead_threads=2 sliced_threads=0 nr=0 decimate=1 interlaced=0 bluray_compat=0 constrained_intra=0 bframes=3 b_pyramid=2 b_adapt=1 b_bias=0 direct=1 weightb=1 open_gop=0 weightp=2 keyint=250 keyint_min=25 scenecut=40 intra_refresh=0 rc_lookahead=40 rc=crf mbtree=1 crf=23.0 qcomp=0.60 qpmin=0 qpmax=69 qpstep=4 ip_ratio=1.40 aq=1:1.00\r\n",
      "Output #0, mp4, to 'bloch.mp4':\r\n",
      "  Metadata:\r\n",
      "    encoder         : Lavf58.76.100\r\n",
      "  Stream #0:0: Video: h264 (avc1 / 0x31637661), yuv444p(tv, progressive), 500x500 [SAR 1:1 DAR 1:1], q=2-31, 25 fps, 12800 tbn\r\n",
      "    Metadata:\r\n",
      "      encoder         : Lavc58.134.100 libx264\r\n",
      "    Side data:\r\n",
      "      cpb: bitrate max/min/avg: 0/0/0 buffer size: 0 vbv_delay: N/A\r\n",
      "frame=  101 fps=0.0 q=-1.0 Lsize=     297kB time=00:00:03.92 bitrate= 621.0kbits/s speed=14.8x    \r\n",
      "video:295kB audio:0kB subtitle:0kB other streams:0kB global headers:0kB muxing overhead: 0.654604%\r\n",
      "\u001B[1;36m[libx264 @ 0x555ba6797e00] \u001B[0mframe I:1     Avg QP:19.44  size: 15796\r\n",
      "\u001B[1;36m[libx264 @ 0x555ba6797e00] \u001B[0mframe P:49    Avg QP:23.48  size:  3989\r\n",
      "\u001B[1;36m[libx264 @ 0x555ba6797e00] \u001B[0mframe B:51    Avg QP:30.24  size:  1772\r\n",
      "\u001B[1;36m[libx264 @ 0x555ba6797e00] \u001B[0mconsecutive B-frames: 20.8% 33.7%  5.9% 39.6%\r\n",
      "\u001B[1;36m[libx264 @ 0x555ba6797e00] \u001B[0mmb I  I16..4:  3.0% 56.5% 40.4%\r\n",
      "\u001B[1;36m[libx264 @ 0x555ba6797e00] \u001B[0mmb P  I16..4:  0.4%  0.8%  2.1%  P16..4:  6.6%  7.6%  7.2%  0.0%  0.0%    skip:75.4%\r\n",
      "\u001B[1;36m[libx264 @ 0x555ba6797e00] \u001B[0mmb B  I16..4:  0.0%  0.3%  0.3%  B16..8:  9.8%  8.0%  3.6%  direct: 1.1%  skip:76.9%  L0:41.3% L1:40.2% BI:18.5%\r\n",
      "\u001B[1;36m[libx264 @ 0x555ba6797e00] \u001B[0m8x8 transform intra:38.5% inter:36.3%\r\n",
      "\u001B[1;36m[libx264 @ 0x555ba6797e00] \u001B[0mcoded y,u,v intra: 46.8% 20.4% 19.0% inter: 5.9% 1.3% 1.4%\r\n",
      "\u001B[1;36m[libx264 @ 0x555ba6797e00] \u001B[0mi16 v,h,dc,p: 57% 22% 21%  0%\r\n",
      "\u001B[1;36m[libx264 @ 0x555ba6797e00] \u001B[0mi8 v,h,dc,ddl,ddr,vr,hd,vl,hu: 26% 12% 51%  3%  1%  2%  1%  2%  2%\r\n",
      "\u001B[1;36m[libx264 @ 0x555ba6797e00] \u001B[0mi4 v,h,dc,ddl,ddr,vr,hd,vl,hu: 23% 15% 23%  6%  7%  8%  8%  6%  5%\r\n",
      "\u001B[1;36m[libx264 @ 0x555ba6797e00] \u001B[0mWeighted P-Frames: Y:0.0% UV:0.0%\r\n",
      "\u001B[1;36m[libx264 @ 0x555ba6797e00] \u001B[0mref P L0: 66.3%  8.3% 13.7% 11.7%\r\n",
      "\u001B[1;36m[libx264 @ 0x555ba6797e00] \u001B[0mref B L0: 84.6% 12.1%  3.3%\r\n",
      "\u001B[1;36m[libx264 @ 0x555ba6797e00] \u001B[0mref B L1: 97.7%  2.3%\r\n",
      "\u001B[1;36m[libx264 @ 0x555ba6797e00] \u001B[0mkb/s:597.29\r\n"
     ]
    }
   ],
   "source": [
    "!ffmpeg -i temp/bloch_%01d.png bloch.mp4 -y"
   ],
   "metadata": {
    "collapsed": false,
    "ExecuteTime": {
     "end_time": "2023-12-30T19:34:03.887536300Z",
     "start_time": "2023-12-30T19:34:03.390910900Z"
    }
   },
   "id": "b3480b2ad0a1aeb5",
   "execution_count": 4
  }
 ],
 "metadata": {
  "kernelspec": {
   "display_name": "Python 3",
   "language": "python",
   "name": "python3"
  },
  "language_info": {
   "codemirror_mode": {
    "name": "ipython",
    "version": 2
   },
   "file_extension": ".py",
   "mimetype": "text/x-python",
   "name": "python",
   "nbconvert_exporter": "python",
   "pygments_lexer": "ipython2",
   "version": "2.7.6"
  }
 },
 "nbformat": 4,
 "nbformat_minor": 5
}

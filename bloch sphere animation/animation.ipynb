{
 "cells": [
  {
   "cell_type": "code",
   "outputs": [],
   "source": [
    "from qutip import Bloch, Qobj\n",
    "from qutip.qip.operations import rz, rx, ry, hadamard_transform\n",
    "import numpy as np\n",
    "import qutip\n",
    "from tqdm import tqdm"
   ],
   "metadata": {
    "collapsed": false,
    "ExecuteTime": {
     "end_time": "2024-02-10T17:46:18.005719900Z",
     "start_time": "2024-02-10T17:46:17.138376800Z"
    }
   },
   "id": "b9efb41f3c7b46ab",
   "execution_count": 1
  },
  {
   "cell_type": "code",
   "outputs": [],
   "source": [
    "def draw_axis_circle(state:Qobj, sphere:Bloch, axis:str):\n",
    "    \n",
    "    if axis == 'x':\n",
    "       gate = rx\n",
    "    elif axis == 'y':\n",
    "       gate = ry\n",
    "    elif axis == 'z':\n",
    "       gate = rz\n",
    "    else:\n",
    "        raise Exception\n",
    "    sample_length = 30\n",
    "    temp_sphere = Bloch()\n",
    "    for n in range(0, sample_length + 2):\n",
    "        state_p = gate((2*np.pi)/sample_length*n) * state\n",
    "        temp_sphere.add_states(state_p)\n",
    "    points_vect = temp_sphere.vectors\n",
    "    \n",
    "    points_vect = np.array(points_vect)\n",
    "    points_vect_p = np.zeros((3, sample_length + 2))\n",
    "    points_vect_p[0] = points_vect[:, 0]\n",
    "    points_vect_p[1] = points_vect[:, 1]\n",
    "    points_vect_p[2] = points_vect[: ,2]\n",
    "        \n",
    "    sphere.add_points(points_vect_p, meth='l')"
   ],
   "metadata": {
    "collapsed": false,
    "ExecuteTime": {
     "end_time": "2024-02-10T17:46:18.005719900Z",
     "start_time": "2024-02-10T17:46:17.997692300Z"
    }
   },
   "id": "6d17e19008817b24",
   "execution_count": 2
  },
  {
   "cell_type": "code",
   "outputs": [
    {
     "name": "stderr",
     "output_type": "stream",
     "text": [
      "100%|██████████| 101/101 [00:20<00:00,  5.00it/s]\n"
     ]
    }
   ],
   "source": [
    "state = Qobj([[np.sqrt(0.7)], [np.sqrt(0.3)*1j]])\n",
    "\n",
    "b = Bloch()\n",
    "\n",
    "b.add_states(state)\n",
    "\n",
    "sample_size = 100\n",
    "angle = np.pi * 0.6\n",
    "theta = angle / sample_size\n",
    "theta_p = angle * 0.7 / sample_size\n",
    "# theta_p_p = angle * 0.3 / sample_size\n",
    "b.view = [-40, 30]\n",
    "for i in tqdm(range(0, sample_size + 1)):\n",
    "    b.clear()\n",
    "    \n",
    "    state_p = rx(theta * i) * state\n",
    "    state_p = rz(theta_p * i) * state_p\n",
    "    # state_p = ry(theta_p_p * i) * state_p\n",
    "    \n",
    "    # state_p = hadamard_transform() * state\n",
    "    \n",
    "    draw_axis_circle(state_p, b, 'x')\n",
    "    draw_axis_circle(state_p, b, 'y')\n",
    "    draw_axis_circle(state_p, b, 'z')\n",
    "    \n",
    "    b.add_states(state_p)\n",
    "    \n",
    "    b.save(dirc='buff')  # saving images to temp directory in current working directory"
   ],
   "metadata": {
    "collapsed": false,
    "ExecuteTime": {
     "end_time": "2024-02-10T17:46:38.251751900Z",
     "start_time": "2024-02-10T17:46:18.004201600Z"
    }
   },
   "id": "5c754983a6715f3b",
   "execution_count": 3
  },
  {
   "cell_type": "code",
   "outputs": [
    {
     "name": "stdout",
     "output_type": "stream",
     "text": [
      "/bin/bash: warning: setlocale: LC_ALL: cannot change locale (en_US.UTF-8)\r\n",
      "ffmpeg version 4.4.2-0ubuntu0.22.04.1 Copyright (c) 2000-2021 the FFmpeg developers\r\n",
      "  built with gcc 11 (Ubuntu 11.2.0-19ubuntu1)\r\n",
      "  configuration: --prefix=/usr --extra-version=0ubuntu0.22.04.1 --toolchain=hardened --libdir=/usr/lib/x86_64-linux-gnu --incdir=/usr/include/x86_64-linux-gnu --arch=amd64 --enable-gpl --disable-stripping --enable-gnutls --enable-ladspa --enable-libaom --enable-libass --enable-libbluray --enable-libbs2b --enable-libcaca --enable-libcdio --enable-libcodec2 --enable-libdav1d --enable-libflite --enable-libfontconfig --enable-libfreetype --enable-libfribidi --enable-libgme --enable-libgsm --enable-libjack --enable-libmp3lame --enable-libmysofa --enable-libopenjpeg --enable-libopenmpt --enable-libopus --enable-libpulse --enable-librabbitmq --enable-librubberband --enable-libshine --enable-libsnappy --enable-libsoxr --enable-libspeex --enable-libsrt --enable-libssh --enable-libtheora --enable-libtwolame --enable-libvidstab --enable-libvorbis --enable-libvpx --enable-libwebp --enable-libx265 --enable-libxml2 --enable-libxvid --enable-libzimg --enable-libzmq --enable-libzvbi --enable-lv2 --enable-omx --enable-openal --enable-opencl --enable-opengl --enable-sdl2 --enable-pocketsphinx --enable-librsvg --enable-libmfx --enable-libdc1394 --enable-libdrm --enable-libiec61883 --enable-chromaprint --enable-frei0r --enable-libx264 --enable-shared\r\n",
      "  libavutil      56. 70.100 / 56. 70.100\r\n",
      "  libavcodec     58.134.100 / 58.134.100\r\n",
      "  libavformat    58. 76.100 / 58. 76.100\r\n",
      "  libavdevice    58. 13.100 / 58. 13.100\r\n",
      "  libavfilter     7.110.100 /  7.110.100\r\n",
      "  libswscale      5.  9.100 /  5.  9.100\r\n",
      "  libswresample   3.  9.100 /  3.  9.100\r\n",
      "  libpostproc    55.  9.100 / 55.  9.100\r\n",
      "Input #0, image2, from 'buff/bloch_%01d.png':\r\n",
      "  Duration: 00:00:04.04, start: 0.000000, bitrate: N/A\r\n",
      "  Stream #0:0: Video: png, rgba(pc), 500x500 [SAR 3937:3937 DAR 1:1], 25 fps, 25 tbr, 25 tbn, 25 tbc\r\n",
      "Stream mapping:\r\n",
      "  Stream #0:0 -> #0:0 (png (native) -> h264 (libx264))\r\n",
      "Press [q] to stop, [?] for help\r\n",
      "\u001B[1;36m[libx264 @ 0x55b01b6f8e00] \u001B[0musing SAR=1/1\r\n",
      "\u001B[1;36m[libx264 @ 0x55b01b6f8e00] \u001B[0musing cpu capabilities: MMX2 SSE2Fast SSSE3 SSE4.2 AVX FMA3 BMI2 AVX2\r\n",
      "\u001B[1;36m[libx264 @ 0x55b01b6f8e00] \u001B[0mprofile High 4:4:4 Predictive, level 3.0, 4:4:4, 8-bit\r\n",
      "\u001B[1;36m[libx264 @ 0x55b01b6f8e00] \u001B[0m264 - core 163 r3060 5db6aa6 - H.264/MPEG-4 AVC codec - Copyleft 2003-2021 - http://www.videolan.org/x264.html - options: cabac=1 ref=3 deblock=1:0:0 analyse=0x3:0x113 me=hex subme=7 psy=1 psy_rd=1.00:0.00 mixed_ref=1 me_range=16 chroma_me=1 trellis=1 8x8dct=1 cqm=0 deadzone=21,11 fast_pskip=1 chroma_qp_offset=4 threads=16 lookahead_threads=2 sliced_threads=0 nr=0 decimate=1 interlaced=0 bluray_compat=0 constrained_intra=0 bframes=3 b_pyramid=2 b_adapt=1 b_bias=0 direct=1 weightb=1 open_gop=0 weightp=2 keyint=250 keyint_min=25 scenecut=40 intra_refresh=0 rc_lookahead=40 rc=crf mbtree=1 crf=23.0 qcomp=0.60 qpmin=0 qpmax=69 qpstep=4 ip_ratio=1.40 aq=1:1.00\r\n",
      "Output #0, mp4, to 'bloch.mp4':\r\n",
      "  Metadata:\r\n",
      "    encoder         : Lavf58.76.100\r\n",
      "  Stream #0:0: Video: h264 (avc1 / 0x31637661), yuv444p(tv, progressive), 500x500 [SAR 1:1 DAR 1:1], q=2-31, 25 fps, 12800 tbn\r\n",
      "    Metadata:\r\n",
      "      encoder         : Lavc58.134.100 libx264\r\n",
      "    Side data:\r\n",
      "      cpb: bitrate max/min/avg: 0/0/0 buffer size: 0 vbv_delay: N/A\r\n",
      "frame=  101 fps=0.0 q=-1.0 Lsize=     268kB time=00:00:03.92 bitrate= 560.0kbits/s speed=9.49x    \r\n",
      "video:266kB audio:0kB subtitle:0kB other streams:0kB global headers:0kB muxing overhead: 0.688000%\r\n",
      "\u001B[1;36m[libx264 @ 0x55b01b6f8e00] \u001B[0mframe I:1     Avg QP:19.82  size: 16508\r\n",
      "\u001B[1;36m[libx264 @ 0x55b01b6f8e00] \u001B[0mframe P:60    Avg QP:24.19  size:  3338\r\n",
      "\u001B[1;36m[libx264 @ 0x55b01b6f8e00] \u001B[0mframe B:40    Avg QP:30.66  size:  1376\r\n",
      "\u001B[1;36m[libx264 @ 0x55b01b6f8e00] \u001B[0mconsecutive B-frames: 35.6% 31.7%  8.9% 23.8%\r\n",
      "\u001B[1;36m[libx264 @ 0x55b01b6f8e00] \u001B[0mmb I  I16..4:  1.8% 54.8% 43.5%\r\n",
      "\u001B[1;36m[libx264 @ 0x55b01b6f8e00] \u001B[0mmb P  I16..4:  0.3%  0.5%  0.8%  P16..4:  6.1%  8.2%  7.7%  0.0%  0.0%    skip:76.3%\r\n",
      "\u001B[1;36m[libx264 @ 0x55b01b6f8e00] \u001B[0mmb B  I16..4:  0.0%  0.3%  0.0%  B16..8:  9.3%  7.6%  2.9%  direct: 1.2%  skip:78.6%  L0:35.9% L1:39.7% BI:24.4%\r\n",
      "\u001B[1;36m[libx264 @ 0x55b01b6f8e00] \u001B[0m8x8 transform intra:45.1% inter:35.0%\r\n",
      "\u001B[1;36m[libx264 @ 0x55b01b6f8e00] \u001B[0mcoded y,u,v intra: 38.4% 12.5% 13.1% inter: 6.0% 1.3% 1.3%\r\n",
      "\u001B[1;36m[libx264 @ 0x55b01b6f8e00] \u001B[0mi16 v,h,dc,p: 66% 13% 20%  0%\r\n",
      "\u001B[1;36m[libx264 @ 0x55b01b6f8e00] \u001B[0mi8 v,h,dc,ddl,ddr,vr,hd,vl,hu: 28% 14% 47%  3%  1%  1%  1%  2%  3%\r\n",
      "\u001B[1;36m[libx264 @ 0x55b01b6f8e00] \u001B[0mi4 v,h,dc,ddl,ddr,vr,hd,vl,hu: 27% 16% 22%  6%  6%  6%  8%  5%  5%\r\n",
      "\u001B[1;36m[libx264 @ 0x55b01b6f8e00] \u001B[0mWeighted P-Frames: Y:0.0% UV:0.0%\r\n",
      "\u001B[1;36m[libx264 @ 0x55b01b6f8e00] \u001B[0mref P L0: 74.0%  8.5% 11.2%  6.3%\r\n",
      "\u001B[1;36m[libx264 @ 0x55b01b6f8e00] \u001B[0mref B L0: 86.8% 11.0%  2.2%\r\n",
      "\u001B[1;36m[libx264 @ 0x55b01b6f8e00] \u001B[0mref B L1: 98.0%  2.0%\r\n",
      "\u001B[1;36m[libx264 @ 0x55b01b6f8e00] \u001B[0mkb/s:538.30\r\n"
     ]
    }
   ],
   "source": [
    "!ffmpeg -i buff/bloch_%01d.png bloch.mp4 -y"
   ],
   "metadata": {
    "collapsed": false,
    "ExecuteTime": {
     "end_time": "2024-02-10T17:46:38.908786Z",
     "start_time": "2024-02-10T17:46:38.219800200Z"
    }
   },
   "id": "b3480b2ad0a1aeb5",
   "execution_count": 4
  },
  {
   "cell_type": "code",
   "outputs": [],
   "source": [],
   "metadata": {
    "collapsed": false,
    "ExecuteTime": {
     "end_time": "2024-02-10T17:46:38.963329900Z",
     "start_time": "2024-02-10T17:46:38.911812300Z"
    }
   },
   "id": "25825bdde573dbe9",
   "execution_count": 4
  }
 ],
 "metadata": {
  "kernelspec": {
   "display_name": "Python 3",
   "language": "python",
   "name": "python3"
  },
  "language_info": {
   "codemirror_mode": {
    "name": "ipython",
    "version": 2
   },
   "file_extension": ".py",
   "mimetype": "text/x-python",
   "name": "python",
   "nbconvert_exporter": "python",
   "pygments_lexer": "ipython2",
   "version": "2.7.6"
  }
 },
 "nbformat": 4,
 "nbformat_minor": 5
}

{
 "cells": [
  {
   "cell_type": "markdown",
   "source": [
    "# Objectif : Création d'un Quantum Convolutionnal Neural Network\n",
    "\n",
    "Les Réseaux de Neurones Convolutionnels Quantiques (Quantum Convolutional Neural Networks - QCNN) sont une fusion novatrice de deux champs technologiques émergents : l'apprentissage profond et l'informatique quantique. L'idée est de tirer parti des avantages computationnels potentiels de l'informatique quantique pour améliorer l'efficacité et la capacité d'apprentissage des Réseaux de Neurones Convolutionnels (CNNs).\n",
    "\n",
    "Les QCNN ont plusieurs avantages par rapport aux CNN classiques. Premièrement, ils peuvent théoriquement résoudre certains problèmes beaucoup plus rapidement que les CNN classiques, grâce à la superposition et à l'intrication.\n",
    "\n",
    "Cependant, l'implémentation des QCNN dans la pratique est confrontée à plusieurs défis. Tout d'abord, l'informatique quantique en est encore à ses premiers stades de développement et il existe encore de nombreux problèmes non résolus, tels que la correction d'erreurs quantiques et la décohérence. Deuxièmement, l'entrainement des réseaux de neurones quantiques peut être très difficile, car on ne peut pas calculer la dérivé d'un circuit quantique. On utilise des methides pour approximer le gradient dont la parametric shift rules.\n",
    "\n",
    "\n",
    "[Papier introduisant le concepte](https://arxiv.org/pdf/1810.03787.pdf)\n",
    "\n",
    "### On peut utiliser des simulateurs pour faire nos calcules quantique ça ne correspond pas totalement à la réalité mais ça fonctionne.\n",
    "\n",
    "Les calculs impliqués dans la simulation d'un système quantique sur un ordinateur classique sont très rigoureux. Chaque opération sur un qubit a un coût exponentiel dans un contexte classique. Donc, pour les réseaux de neurones de convolution quantiques (QCNN) qui peuvent nécessiter des milliers ou des millions d'opérations, cette complexité peut devenir ingérable pour un ordinateur classique. Les opérations quantiques telles que l'application de portes quantiques, l'entrelacement et les mesures sont toutes complexes et nécessitent beaucoup de temps de calcul. Cela peut rendre la simulation très lente et inefficace.\n",
    "\n",
    "La capacité à mettre à l'échelle est l'un des principaux facteurs limitants des QCNN. En théorie, un ordinateur quantique peut exécuter des opérations sur un grand nombre de qubits simultanément grâce à la superposition. Toutefois, dans un environnement de simulation, cette mise à l'échelle n'est pas facilement réalisable. Le nombre de calculs nécessaires pour simuler un système quantique augmentant exponentiellement avec le nombre de qubits, simuler un QCNN de taille réelle devient une tâche démesurée pour un ordinateur classique.\n",
    "\n",
    "### On va donc simplifier l'architecture pour qu'elle nous permètes de faire du traitement d'image avec un Quantum Convolutional Neural Networks <u>Hybride</u>\n",
    "\n",
    "On aura besoin d'un framework pour faire des architectures hybride performante, on utilisera PennyLane car il permet de bien customiser ce dont on à besoin et est bien documenter. On utilisera aussi keras avec tensorflow et Jax avec Equinox pour voir comment interopéré les modèles hybrides.  "
   ],
   "metadata": {
    "collapsed": false
   },
   "id": "b1de5c8b80f1e0d8"
  },
  {
   "cell_type": "code",
   "outputs": [],
   "source": [],
   "metadata": {
    "collapsed": false
   },
   "id": "6fde037fa46e3a83"
  }
 ],
 "metadata": {
  "kernelspec": {
   "display_name": "Python 3",
   "language": "python",
   "name": "python3"
  },
  "language_info": {
   "codemirror_mode": {
    "name": "ipython",
    "version": 2
   },
   "file_extension": ".py",
   "mimetype": "text/x-python",
   "name": "python",
   "nbconvert_exporter": "python",
   "pygments_lexer": "ipython2",
   "version": "2.7.6"
  }
 },
 "nbformat": 4,
 "nbformat_minor": 5
}

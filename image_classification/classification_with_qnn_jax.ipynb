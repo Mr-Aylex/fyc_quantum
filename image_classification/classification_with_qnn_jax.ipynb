{
 "cells": [
  {
   "cell_type": "code",
   "execution_count": 1,
   "id": "initial_id",
   "metadata": {
    "collapsed": true,
    "ExecuteTime": {
     "end_time": "2023-12-27T12:09:24.178408300Z",
     "start_time": "2023-12-27T12:09:21.782715700Z"
    }
   },
   "outputs": [],
   "source": [
    "import os\n",
    "#os.environ[\"JAX_PLATFORM_NAME\"] = \"cpu\"\n",
    "import numpy as np\n",
    "from sklearn import datasets\n",
    "import matplotlib.pyplot as plt\n",
    "from pennylane import AngleEmbedding, StronglyEntanglingLayers, RandomLayers\n",
    "import pennylane as qml\n",
    "import os\n",
    "import jax\n",
    "from jax import numpy as jnp\n",
    "import equinox as eqx\n",
    "import time\n",
    "from tqdm import tqdm\n",
    "import optax\n",
    "import tensorflow as tf\n",
    "from jaxtyping import Array, Float, PyTree\n",
    "from collections import deque"
   ]
  },
  {
   "cell_type": "code",
   "execution_count": 2,
   "outputs": [
    {
     "name": "stdout",
     "output_type": "stream",
     "text": [
      "[cuda(id=0)]\n"
     ]
    }
   ],
   "source": [
    "print(jax.devices())"
   ],
   "metadata": {
    "collapsed": false,
    "ExecuteTime": {
     "end_time": "2023-12-27T12:09:24.689189200Z",
     "start_time": "2023-12-27T12:09:24.180405700Z"
    }
   },
   "id": "3f300c83b09e535"
  },
  {
   "cell_type": "code",
   "execution_count": 3,
   "outputs": [],
   "source": [
    "key = jax.random.PRNGKey(0)"
   ],
   "metadata": {
    "collapsed": false,
    "ExecuteTime": {
     "end_time": "2023-12-27T12:09:25.136788400Z",
     "start_time": "2023-12-27T12:09:24.689189200Z"
    }
   },
   "id": "39c54f30ec8db92e"
  },
  {
   "cell_type": "code",
   "execution_count": 4,
   "outputs": [],
   "source": [
    "(x_train, y_train), (x_test, y_test) = tf.keras.datasets.mnist.load_data()"
   ],
   "metadata": {
    "collapsed": false,
    "ExecuteTime": {
     "end_time": "2023-12-27T12:09:25.270562Z",
     "start_time": "2023-12-27T12:09:25.139789100Z"
    }
   },
   "id": "d65e395ea05d480c"
  },
  {
   "cell_type": "code",
   "execution_count": 5,
   "outputs": [],
   "source": [
    "x_train = x_train[:50_000]\n",
    "y_train = y_train[:50_000]\n",
    "\n",
    "x_test = x_test[:10_000]\n",
    "y_test = y_test[:10_000]"
   ],
   "metadata": {
    "collapsed": false,
    "ExecuteTime": {
     "end_time": "2023-12-27T12:09:25.276290800Z",
     "start_time": "2023-12-27T12:09:25.272560400Z"
    }
   },
   "id": "7416888ca1166db8"
  },
  {
   "cell_type": "code",
   "execution_count": 6,
   "outputs": [],
   "source": [
    "y_test = y_test.astype(np.float32)\n",
    "y_train = y_train.astype(np.float32)\n",
    "\n",
    "x_train = x_train.astype(np.float32)\n",
    "x_test = x_test.astype(np.float32)"
   ],
   "metadata": {
    "collapsed": false,
    "ExecuteTime": {
     "end_time": "2023-12-27T12:09:25.322823200Z",
     "start_time": "2023-12-27T12:09:25.276290800Z"
    }
   },
   "id": "bf7de7753308ea8a"
  },
  {
   "cell_type": "code",
   "execution_count": 7,
   "outputs": [],
   "source": [
    "x_train = jnp.expand_dims(x_train, axis=-1)\n",
    "x_test = jnp.expand_dims(x_test, axis=-1)"
   ],
   "metadata": {
    "collapsed": false,
    "ExecuteTime": {
     "end_time": "2023-12-27T12:09:25.442535400Z",
     "start_time": "2023-12-27T12:09:25.321824100Z"
    }
   },
   "id": "40739bf8a8bd0089"
  },
  {
   "cell_type": "code",
   "execution_count": 8,
   "outputs": [],
   "source": [
    "x_train = np.transpose(x_train, (0, 3, 1, 2))\n",
    "x_test = np.transpose(x_test, (0, 3, 1, 2))"
   ],
   "metadata": {
    "collapsed": false,
    "ExecuteTime": {
     "end_time": "2023-12-27T12:09:25.481560Z",
     "start_time": "2023-12-27T12:09:25.449536400Z"
    }
   },
   "id": "215de8683db4bb3e"
  },
  {
   "cell_type": "code",
   "execution_count": 9,
   "outputs": [],
   "source": [
    "y_train = jax.nn.one_hot(y_train, 10)\n",
    "y_test = jax.nn.one_hot(y_test, 10)"
   ],
   "metadata": {
    "collapsed": false,
    "ExecuteTime": {
     "end_time": "2023-12-27T12:09:25.528070500Z",
     "start_time": "2023-12-27T12:09:25.481560Z"
    }
   },
   "id": "9c53de3838c9a454"
  },
  {
   "cell_type": "code",
   "outputs": [],
   "source": [
    "num_qubits = 8\n",
    "in_channel = 2\n",
    "kernel_size = [2, 2]"
   ],
   "metadata": {
    "collapsed": false,
    "ExecuteTime": {
     "end_time": "2023-12-27T12:09:25.537545400Z",
     "start_time": "2023-12-27T12:09:25.530073200Z"
    }
   },
   "id": "686c27669591c673",
   "execution_count": 10
  },
  {
   "cell_type": "code",
   "outputs": [],
   "source": [
    "device = qml.device(\"default.qubit.jax\", wires=num_qubits)\n",
    "\n",
    "@jax.jit\n",
    "@qml.qnode(device, interface=\"jax\")\n",
    "def quantum_conv_circuit(inputs, weights):\n",
    "    AngleEmbedding(inputs, wires=range(num_qubits))\n",
    "    \n",
    "    for weight_set, cell_qubit in enumerate(range(0, num_qubits, in_channel)):\n",
    "        \n",
    "        for channel_qubit in range(0, in_channel):\n",
    "            if cell_qubit + channel_qubit != cell_qubit:\n",
    "                qml.CNOT(wires=[cell_qubit + channel_qubit, cell_qubit])\n",
    "        qml.Rot(weights[weight_set, 0], weights[weight_set, 1], weights[weight_set, 2], wires=cell_qubit)\n",
    "        \n",
    "        if cell_qubit > 0:\n",
    "            qml.CNOT(wires=[cell_qubit, 0])\n",
    "    \n",
    "    qml.Rot(weights[-1, 0], weights[-1, 1], weights[-1, 2], wires=0)\n",
    "    #RandomLayers(weights, wires=range(self.num_qubits))\n",
    "    return qml.expval(qml.PauliZ(wires=0))"
   ],
   "metadata": {
    "collapsed": false,
    "ExecuteTime": {
     "end_time": "2023-12-27T12:09:25.582574900Z",
     "start_time": "2023-12-27T12:09:25.535071600Z"
    }
   },
   "id": "85d5c12afc6795c1",
   "execution_count": 11
  },
  {
   "cell_type": "code",
   "outputs": [],
   "source": [
    "weights = jax.random.normal(jax.random.PRNGKey(0), (sum(kernel_size) + 1, 3))"
   ],
   "metadata": {
    "collapsed": false,
    "ExecuteTime": {
     "end_time": "2023-12-27T12:09:25.643565100Z",
     "start_time": "2023-12-27T12:09:25.581574800Z"
    }
   },
   "id": "3f652e148bfb44c8",
   "execution_count": 12
  },
  {
   "cell_type": "code",
   "outputs": [
    {
     "data": {
      "text/plain": "Array(0.05004174, dtype=float32)"
     },
     "execution_count": 13,
     "metadata": {},
     "output_type": "execute_result"
    }
   ],
   "source": [
    "quantum_conv_circuit(jnp.array([2, 2, 3, 2, 5, 6, 7, 8]), weights)"
   ],
   "metadata": {
    "collapsed": false,
    "ExecuteTime": {
     "end_time": "2023-12-27T12:09:26.279660800Z",
     "start_time": "2023-12-27T12:09:25.650075600Z"
    }
   },
   "id": "3e361d334522c6a1",
   "execution_count": 13
  },
  {
   "cell_type": "code",
   "outputs": [
    {
     "name": "stderr",
     "output_type": "stream",
     "text": [
      "/tmp/ipykernel_4818/2255298493.py:2: UserWarning: FigureCanvasAgg is non-interactive, and thus cannot be shown\n",
      "  fig.show()\n"
     ]
    },
    {
     "data": {
      "text/plain": "<Figure size 400x100 with 1 Axes>",
      "image/png": "[encoded data removed]"
     },
     "metadata": {},
     "output_type": "display_data"
    }
   ],
   "source": [
    "fig, ax = qml.draw_mpl(quantum_conv_circuit)(jnp.array([2, 2, 3, 2, 5, 6, 7, 8]), weights)\n",
    "fig.show()"
   ],
   "metadata": {
    "collapsed": false,
    "ExecuteTime": {
     "end_time": "2023-12-27T12:09:26.315194800Z",
     "start_time": "2023-12-27T12:09:26.278641700Z"
    }
   },
   "id": "9e4423dc94592a15",
   "execution_count": 14
  },
  {
   "cell_type": "code",
   "execution_count": 15,
   "outputs": [],
   "source": [
    "class QuantumConv2dLayer(eqx.Module):\n",
    "    filter_size: int\n",
    "    circuit_length: int\n",
    "    padding_mode: str\n",
    "    weight: jax.Array\n",
    "    num_qubits: int\n",
    "    quantum_conv_circuit: list\n",
    "    kernel_size: tuple[int, int]\n",
    "    stride: tuple[int, int]\n",
    "    \n",
    "    def __init__(self, filter_size, circuit_length, kernel_size, stride, padding_mode, in_channel):\n",
    "        super().__init__()\n",
    "        self.filter_size = filter_size\n",
    "        self.circuit_length = circuit_length\n",
    "        self.padding_mode = padding_mode\n",
    "        \n",
    "        self.num_qubits = in_channel * kernel_size[0] * kernel_size[1]\n",
    "        self.weight = jax.random.normal(jax.random.PRNGKey(0), (filter_size, kernel_size[0] + kernel_size[1] + 1, 3))\n",
    "        # self.weight = jax.random.normal(jax.random.PRNGKey(0), (filter_size, circuit_length, self.num_qubits))\n",
    "        self.kernel_size = kernel_size\n",
    "        self.stride = stride\n",
    "\n",
    "        device = qml.device(\"default.qubit.jax\", wires=self.num_qubits)\n",
    "        @jax.jit\n",
    "        @qml.qnode(device, interface=\"jax\")\n",
    "        def quantum_conv_circuit(inputs, weights):\n",
    "            AngleEmbedding(inputs, wires=range(self.num_qubits))\n",
    "            for weight_set, cell_qubit in enumerate(range(0, self.num_qubits, in_channel)):\n",
    "\n",
    "                for channel_qubit in range(0, in_channel):\n",
    "                    if cell_qubit + channel_qubit != cell_qubit:\n",
    "                        qml.CNOT(wires=[cell_qubit + channel_qubit, cell_qubit])\n",
    "                qml.Rot(weights[weight_set, 0], weights[weight_set, 1], weights[weight_set, 2], wires=cell_qubit)\n",
    "\n",
    "                if cell_qubit > 0:\n",
    "                    qml.CNOT(wires=[cell_qubit, 0])\n",
    "\n",
    "                qml.Rot(weights[-1, 0], weights[-1, 1], weights[-1, 2], wires=0)\n",
    "            # RandomLayers(weights, wires=range(self.num_qubits))\n",
    "            return qml.expval(qml.PauliZ(wires=0))\n",
    "\n",
    "        self.quantum_conv_circuit = [quantum_conv_circuit]\n",
    "        \n",
    "    @eqx.filter_jit\n",
    "    def apply_on_batch(self, inputs):\n",
    "        # Apply the quantum circuit to each patch\n",
    "        inputs = jnp.transpose(inputs)\n",
    "        outputs = []\n",
    "                \n",
    "        for i in range(self.filter_size):\n",
    "            \n",
    "            outputs.append(\n",
    "                jnp.expand_dims(\n",
    "                    jax.vmap(\n",
    "                        self.quantum_conv_circuit[0], in_axes=(0, None)\n",
    "                    )(inputs, self.weight[i]),\n",
    "                    axis=0\n",
    "                )\n",
    "            )\n",
    "        return jnp.concatenate(outputs, axis=0)\n",
    "    \n",
    "    @eqx.filter_jit\n",
    "    def __call__(self, inputs):\n",
    "        # Extract patches\n",
    "        inputs = jnp.expand_dims(inputs, axis=0)\n",
    "        patches = jax.lax.conv_general_dilated_patches(inputs, self.kernel_size, self.stride, self.padding_mode)\n",
    "        patches_shape = patches.shape\n",
    "        patches_flat = patches.reshape(patches_shape[0], patches_shape[1], patches_shape[2] * patches_shape[3])\n",
    "\n",
    "        # Apply the quantum circuit on each patch\n",
    "        output = jax.vmap(self.apply_on_batch)(patches_flat)\n",
    "        output_shape = patches_shape\n",
    "        \n",
    "        output_shape = (self.filter_size, output_shape[2], output_shape[3])        \n",
    "        # Reshape the output\n",
    "        return output.reshape(output_shape)\n",
    "\n",
    "\n",
    "#quantum_layer = QuantumConv2dLayer(filter_size=2, circuit_length=3, kernel_size=(2, 2), stride=(2, 2), padding_mode='SAME', in_channel=1)"
   ],
   "metadata": {
    "collapsed": false,
    "ExecuteTime": {
     "end_time": "2023-12-27T12:09:26.315194800Z",
     "start_time": "2023-12-27T12:09:26.308168700Z"
    }
   },
   "id": "bbd88cf914c0cbfb"
  },
  {
   "cell_type": "code",
   "execution_count": 16,
   "outputs": [],
   "source": [
    "#quantum_layer((np.random.random((1, 28, 28))))"
   ],
   "metadata": {
    "collapsed": false,
    "ExecuteTime": {
     "end_time": "2023-12-27T12:09:26.316193200Z",
     "start_time": "2023-12-27T12:09:26.310168600Z"
    }
   },
   "id": "b9c1c23e1cbed2e0"
  },
  {
   "cell_type": "code",
   "execution_count": 17,
   "outputs": [],
   "source": [
    "class HybrideModel(eqx.Module):\n",
    "    layers: list\n",
    "    \n",
    "    def __init__(self, key):\n",
    "        key1, key2, key3, key4 = jax.random.split(key, 4)\n",
    "        self.layers = [\n",
    "            eqx.nn.Conv2d(1, 1, kernel_size=4, key=key1, stride=3),\n",
    "            jax.nn.sigmoid,\n",
    "            QuantumConv2dLayer(filter_size=8, circuit_length=1, kernel_size=(3, 3), stride=(2, 2), padding_mode='VALID', in_channel=1),\n",
    "            eqx.nn.Conv2d(8, 12, kernel_size=2, key=key3, stride=2),\n",
    "            jax.nn.relu,\n",
    "            jnp.ravel,\n",
    "            eqx.nn.Linear(48, 10, key=key3),\n",
    "            jax.nn.softmax\n",
    "        ]\n",
    "        \n",
    "    @eqx.filter_jit\n",
    "    def __call__(self, x):\n",
    "        \n",
    "        for layer in self.layers:\n",
    "            x = layer(x)\n",
    "        return x\n",
    "    \n",
    "key, subkey = jax.random.split(key, 2)\n",
    "model = HybrideModel(subkey)"
   ],
   "metadata": {
    "collapsed": false,
    "ExecuteTime": {
     "end_time": "2023-12-27T12:09:26.758575400Z",
     "start_time": "2023-12-27T12:09:26.316193200Z"
    }
   },
   "id": "1bb1ce309577ece1"
  },
  {
   "cell_type": "code",
   "execution_count": 18,
   "outputs": [],
   "source": [
    "@eqx.filter_jit\n",
    "def categorical_crossentropy(model, inputs, targets):\n",
    "    \n",
    "    y_pred = jax.vmap(model)(inputs)\n",
    "    \n",
    "    y_pred = jnp.clip(y_pred, 1e-7, 1 - 1e-7)\n",
    "    \n",
    "    loss = -jnp.sum(targets * jnp.log(y_pred), axis=-1)\n",
    "    \n",
    "    return jnp.mean(loss), y_pred\n",
    "\n",
    "@eqx.filter_jit\n",
    "def categorical_accuracy(y_true, y_pred):\n",
    "    true_labels = jnp.argmax(y_true, axis=-1)\n",
    "    predicted_labels = jnp.argmax(y_pred, axis=-1)\n",
    "\n",
    "    # Comparer les indices pour calculer la précision\n",
    "    return jnp.mean(true_labels == predicted_labels)\n",
    "    \n",
    "\n",
    "@eqx.filter_jit\n",
    "def train_step(model, opt_state, inputs, target):\n",
    "    \n",
    "    (loss_value, y_pred), grads = eqx.filter_value_and_grad(categorical_crossentropy, has_aux=True)(model, inputs, target)\n",
    "    \n",
    "    updates, opt_state = optim.update(grads, opt_state, model)\n",
    "    model = eqx.apply_updates(model, updates)\n",
    "    \n",
    "    accuracy = categorical_accuracy(target, y_pred)\n",
    "    \n",
    "    \n",
    "    return model, opt_state, loss_value, accuracy"
   ],
   "metadata": {
    "collapsed": false,
    "ExecuteTime": {
     "end_time": "2023-12-27T12:09:26.769083800Z",
     "start_time": "2023-12-27T12:09:26.762087500Z"
    }
   },
   "id": "32027550e935df04"
  },
  {
   "cell_type": "code",
   "execution_count": 19,
   "outputs": [],
   "source": [
    "def batch(array, batch_size):\n",
    "    return np.array_split(array, np.ceil(len(array) / batch_size))"
   ],
   "metadata": {
    "collapsed": false,
    "ExecuteTime": {
     "end_time": "2023-12-27T12:09:26.769083800Z",
     "start_time": "2023-12-27T12:09:26.765083300Z"
    }
   },
   "id": "dd9d4d117e7157cc"
  },
  {
   "cell_type": "code",
   "execution_count": 20,
   "outputs": [],
   "source": [
    "#optim = optax.sgd(0.0001, 0.9, True)\n",
    "optim = optax.adamax(0.002)\n",
    "opt_state = optim.init(eqx.filter(model, eqx.is_array))\n",
    "epochs = 30\n",
    "batch_size = 16"
   ],
   "metadata": {
    "collapsed": false,
    "ExecuteTime": {
     "end_time": "2023-12-27T12:09:26.925095200Z",
     "start_time": "2023-12-27T12:09:26.774084700Z"
    }
   },
   "id": "40935ad5d17ba8cc"
  },
  {
   "cell_type": "code",
   "execution_count": 21,
   "outputs": [],
   "source": [
    "x_train_batch = batch(x_train, batch_size=batch_size)\n",
    "y_train_batch = batch(y_train, batch_size=batch_size)\n",
    "\n",
    "x_test_batch = batch(x_test, batch_size=batch_size)\n",
    "y_test_batch = batch(y_test, batch_size=batch_size)"
   ],
   "metadata": {
    "collapsed": false,
    "ExecuteTime": {
     "end_time": "2023-12-27T12:09:30.056475600Z",
     "start_time": "2023-12-27T12:09:26.930936500Z"
    }
   },
   "id": "68b0bef5aaf0e4f"
  },
  {
   "cell_type": "code",
   "execution_count": 22,
   "outputs": [
    {
     "name": "stderr",
     "output_type": "stream",
     "text": [
      "100%|██████████| 3125/3125 [01:01<00:00, 50.99it/s]\n"
     ]
    },
    {
     "name": "stdout",
     "output_type": "stream",
     "text": [
      "Loss: 1.2997809648513794\n",
      "Accuracy: 0.5757799744606018\n"
     ]
    },
    {
     "name": "stderr",
     "output_type": "stream",
     "text": [
      "100%|██████████| 3125/3125 [00:44<00:00, 69.99it/s]\n"
     ]
    },
    {
     "name": "stdout",
     "output_type": "stream",
     "text": [
      "Loss: 0.7693491578102112\n",
      "Accuracy: 0.7530800104141235\n"
     ]
    },
    {
     "name": "stderr",
     "output_type": "stream",
     "text": [
      "100%|██████████| 3125/3125 [00:44<00:00, 70.28it/s]\n"
     ]
    },
    {
     "name": "stdout",
     "output_type": "stream",
     "text": [
      "Loss: 0.6453771591186523\n",
      "Accuracy: 0.7932199835777283\n"
     ]
    },
    {
     "name": "stderr",
     "output_type": "stream",
     "text": [
      "100%|██████████| 3125/3125 [00:44<00:00, 70.77it/s]\n"
     ]
    },
    {
     "name": "stdout",
     "output_type": "stream",
     "text": [
      "Loss: 0.5826661586761475\n",
      "Accuracy: 0.8143600225448608\n"
     ]
    },
    {
     "name": "stderr",
     "output_type": "stream",
     "text": [
      "100%|██████████| 3125/3125 [00:44<00:00, 70.78it/s]\n"
     ]
    },
    {
     "name": "stdout",
     "output_type": "stream",
     "text": [
      "Loss: 0.5375463962554932\n",
      "Accuracy: 0.8283200263977051\n"
     ]
    },
    {
     "name": "stderr",
     "output_type": "stream",
     "text": [
      "100%|██████████| 3125/3125 [00:44<00:00, 70.46it/s]\n"
     ]
    },
    {
     "name": "stdout",
     "output_type": "stream",
     "text": [
      "Loss: 0.5007834434509277\n",
      "Accuracy: 0.8391199707984924\n"
     ]
    },
    {
     "name": "stderr",
     "output_type": "stream",
     "text": [
      "100%|██████████| 3125/3125 [00:44<00:00, 70.37it/s]\n"
     ]
    },
    {
     "name": "stdout",
     "output_type": "stream",
     "text": [
      "Loss: 0.4716348946094513\n",
      "Accuracy: 0.8492000102996826\n"
     ]
    },
    {
     "name": "stderr",
     "output_type": "stream",
     "text": [
      "100%|██████████| 3125/3125 [00:44<00:00, 69.54it/s]\n"
     ]
    },
    {
     "name": "stdout",
     "output_type": "stream",
     "text": [
      "Loss: 0.44506171345710754\n",
      "Accuracy: 0.8596400022506714\n"
     ]
    },
    {
     "name": "stderr",
     "output_type": "stream",
     "text": [
      "100%|██████████| 3125/3125 [00:44<00:00, 69.77it/s]\n"
     ]
    },
    {
     "name": "stdout",
     "output_type": "stream",
     "text": [
      "Loss: 0.42644792795181274\n",
      "Accuracy: 0.8659200072288513\n"
     ]
    },
    {
     "name": "stderr",
     "output_type": "stream",
     "text": [
      "100%|██████████| 3125/3125 [00:44<00:00, 70.05it/s]\n"
     ]
    },
    {
     "name": "stdout",
     "output_type": "stream",
     "text": [
      "Loss: 0.40946754813194275\n",
      "Accuracy: 0.8712800145149231\n"
     ]
    },
    {
     "name": "stderr",
     "output_type": "stream",
     "text": [
      "100%|██████████| 3125/3125 [00:44<00:00, 70.34it/s]\n"
     ]
    },
    {
     "name": "stdout",
     "output_type": "stream",
     "text": [
      "Loss: 0.3924939036369324\n",
      "Accuracy: 0.876579999923706\n"
     ]
    },
    {
     "name": "stderr",
     "output_type": "stream",
     "text": [
      "100%|██████████| 3125/3125 [00:44<00:00, 70.35it/s]\n"
     ]
    },
    {
     "name": "stdout",
     "output_type": "stream",
     "text": [
      "Loss: 0.3746582865715027\n",
      "Accuracy: 0.8830999732017517\n"
     ]
    },
    {
     "name": "stderr",
     "output_type": "stream",
     "text": [
      "100%|██████████| 3125/3125 [00:44<00:00, 70.35it/s]\n"
     ]
    },
    {
     "name": "stdout",
     "output_type": "stream",
     "text": [
      "Loss: 0.36069977283477783\n",
      "Accuracy: 0.887719988822937\n"
     ]
    },
    {
     "name": "stderr",
     "output_type": "stream",
     "text": [
      "100%|██████████| 3125/3125 [00:44<00:00, 70.36it/s]\n"
     ]
    },
    {
     "name": "stdout",
     "output_type": "stream",
     "text": [
      "Loss: 0.3489501178264618\n",
      "Accuracy: 0.8917400240898132\n"
     ]
    },
    {
     "name": "stderr",
     "output_type": "stream",
     "text": [
      "100%|██████████| 3125/3125 [00:44<00:00, 70.34it/s]\n"
     ]
    },
    {
     "name": "stdout",
     "output_type": "stream",
     "text": [
      "Loss: 0.3382526934146881\n",
      "Accuracy: 0.895579993724823\n"
     ]
    },
    {
     "name": "stderr",
     "output_type": "stream",
     "text": [
      "100%|██████████| 3125/3125 [00:44<00:00, 70.35it/s]\n"
     ]
    },
    {
     "name": "stdout",
     "output_type": "stream",
     "text": [
      "Loss: 0.3288235664367676\n",
      "Accuracy: 0.8994600176811218\n"
     ]
    },
    {
     "name": "stderr",
     "output_type": "stream",
     "text": [
      "100%|██████████| 3125/3125 [00:44<00:00, 70.33it/s]\n"
     ]
    },
    {
     "name": "stdout",
     "output_type": "stream",
     "text": [
      "Loss: 0.3193679749965668\n",
      "Accuracy: 0.9023000001907349\n"
     ]
    },
    {
     "name": "stderr",
     "output_type": "stream",
     "text": [
      "100%|██████████| 3125/3125 [00:44<00:00, 70.35it/s]\n"
     ]
    },
    {
     "name": "stdout",
     "output_type": "stream",
     "text": [
      "Loss: 0.3116987347602844\n",
      "Accuracy: 0.9047200083732605\n"
     ]
    },
    {
     "name": "stderr",
     "output_type": "stream",
     "text": [
      "100%|██████████| 3125/3125 [00:44<00:00, 70.35it/s]\n"
     ]
    },
    {
     "name": "stdout",
     "output_type": "stream",
     "text": [
      "Loss: 0.30415108799934387\n",
      "Accuracy: 0.9074199795722961\n"
     ]
    },
    {
     "name": "stderr",
     "output_type": "stream",
     "text": [
      "100%|██████████| 3125/3125 [00:44<00:00, 70.33it/s]\n"
     ]
    },
    {
     "name": "stdout",
     "output_type": "stream",
     "text": [
      "Loss: 0.29755282402038574\n",
      "Accuracy: 0.9090399742126465\n"
     ]
    },
    {
     "name": "stderr",
     "output_type": "stream",
     "text": [
      "100%|██████████| 3125/3125 [00:44<00:00, 70.34it/s]\n"
     ]
    },
    {
     "name": "stdout",
     "output_type": "stream",
     "text": [
      "Loss: 0.29210150241851807\n",
      "Accuracy: 0.9103599786758423\n"
     ]
    },
    {
     "name": "stderr",
     "output_type": "stream",
     "text": [
      "100%|██████████| 3125/3125 [00:44<00:00, 70.36it/s]\n"
     ]
    },
    {
     "name": "stdout",
     "output_type": "stream",
     "text": [
      "Loss: 0.28773054480552673\n",
      "Accuracy: 0.9120200276374817\n"
     ]
    },
    {
     "name": "stderr",
     "output_type": "stream",
     "text": [
      "100%|██████████| 3125/3125 [00:44<00:00, 70.35it/s]\n"
     ]
    },
    {
     "name": "stdout",
     "output_type": "stream",
     "text": [
      "Loss: 0.28211578726768494\n",
      "Accuracy: 0.9134399890899658\n"
     ]
    },
    {
     "name": "stderr",
     "output_type": "stream",
     "text": [
      "100%|██████████| 3125/3125 [00:44<00:00, 70.35it/s]\n"
     ]
    },
    {
     "name": "stdout",
     "output_type": "stream",
     "text": [
      "Loss: 0.27743253111839294\n",
      "Accuracy: 0.9150199890136719\n"
     ]
    },
    {
     "name": "stderr",
     "output_type": "stream",
     "text": [
      "100%|██████████| 3125/3125 [00:44<00:00, 70.33it/s]\n"
     ]
    },
    {
     "name": "stdout",
     "output_type": "stream",
     "text": [
      "Loss: 0.27198320627212524\n",
      "Accuracy: 0.9172400236129761\n"
     ]
    },
    {
     "name": "stderr",
     "output_type": "stream",
     "text": [
      "100%|██████████| 3125/3125 [00:44<00:00, 70.34it/s]\n"
     ]
    },
    {
     "name": "stdout",
     "output_type": "stream",
     "text": [
      "Loss: 0.2681012749671936\n",
      "Accuracy: 0.9177200198173523\n"
     ]
    },
    {
     "name": "stderr",
     "output_type": "stream",
     "text": [
      "100%|██████████| 3125/3125 [00:44<00:00, 70.36it/s]\n"
     ]
    },
    {
     "name": "stdout",
     "output_type": "stream",
     "text": [
      "Loss: 0.26454681158065796\n",
      "Accuracy: 0.9185600280761719\n"
     ]
    },
    {
     "name": "stderr",
     "output_type": "stream",
     "text": [
      "100%|██████████| 3125/3125 [00:44<00:00, 70.34it/s]\n"
     ]
    },
    {
     "name": "stdout",
     "output_type": "stream",
     "text": [
      "Loss: 0.26073750853538513\n",
      "Accuracy: 0.9201599955558777\n"
     ]
    },
    {
     "name": "stderr",
     "output_type": "stream",
     "text": [
      "100%|██████████| 3125/3125 [00:44<00:00, 70.34it/s]\n"
     ]
    },
    {
     "name": "stdout",
     "output_type": "stream",
     "text": [
      "Loss: 0.25727981328964233\n",
      "Accuracy: 0.9214800000190735\n"
     ]
    },
    {
     "name": "stderr",
     "output_type": "stream",
     "text": [
      "100%|██████████| 3125/3125 [00:44<00:00, 70.36it/s]\n"
     ]
    },
    {
     "name": "stdout",
     "output_type": "stream",
     "text": [
      "Loss: 0.2534020245075226\n",
      "Accuracy: 0.9226199984550476\n"
     ]
    }
   ],
   "source": [
    "for step in range(epochs):\n",
    "    accuracys = deque()\n",
    "    losss = deque()\n",
    "    for (x_batch, y_batch) in tqdm(zip(x_train_batch, y_train_batch), total=len(x_train_batch)):\n",
    "        model, opt_state, loss_val, accuracy = train_step(model, opt_state, x_batch, y_batch)\n",
    "        accuracys.append(accuracy)\n",
    "        losss.append(loss_val)\n",
    "        \n",
    "    print(f\"Loss: {np.mean(losss)}\")\n",
    "    print(f\"Accuracy: {np.mean(accuracys)}\")"
   ],
   "metadata": {
    "collapsed": false,
    "ExecuteTime": {
     "end_time": "2023-12-27T12:32:27.093161800Z",
     "start_time": "2023-12-27T12:09:30.056475600Z"
    }
   },
   "id": "d926d15dcca96cf6"
  },
  {
   "cell_type": "markdown",
   "source": [
    "Loss: 1.5282968282699585\n",
    "Accuracy: 0.49437999725341797\n",
    "\n",
    "Loss: 0.9188337326049805\n",
    "Accuracy: 0.6870800256729126\n",
    "\n",
    "Loss: 0.8464434146881104\n",
    "Accuracy: 0.7142199873924255\n",
    "\n",
    "Loss: 0.7995278239250183\n",
    "Accuracy: 0.7277200222015381\n",
    "\n",
    "Loss: 0.7739561200141907\n",
    "Accuracy: 0.7372599840164185"
   ],
   "metadata": {
    "collapsed": false
   },
   "id": "b18eb7984ae8dc27"
  },
  {
   "cell_type": "code",
   "execution_count": 22,
   "outputs": [],
   "source": [],
   "metadata": {
    "collapsed": false,
    "ExecuteTime": {
     "end_time": "2023-12-27T12:32:27.133167Z",
     "start_time": "2023-12-27T12:32:27.088656200Z"
    }
   },
   "id": "647ee35bd842a093"
  }
 ],
 "metadata": {
  "kernelspec": {
   "display_name": "Python 3",
   "language": "python",
   "name": "python3"
  },
  "language_info": {
   "codemirror_mode": {
    "name": "ipython",
    "version": 2
   },
   "file_extension": ".py",
   "mimetype": "text/x-python",
   "name": "python",
   "nbconvert_exporter": "python",
   "pygments_lexer": "ipython2",
   "version": "2.7.6"
  }
 },
 "nbformat": 4,
 "nbformat_minor": 5
}

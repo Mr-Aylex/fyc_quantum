{
 "cells": [
  {
   "cell_type": "code",
   "execution_count": 1,
   "id": "initial_id",
   "metadata": {
    "collapsed": true,
    "ExecuteTime": {
     "end_time": "2023-12-27T17:05:20.484700300Z",
     "start_time": "2023-12-27T17:05:17.907398800Z"
    }
   },
   "outputs": [],
   "source": [
    "import os\n",
    "#os.environ[\"JAX_PLATFORM_NAME\"] = \"cpu\"\n",
    "import numpy as np\n",
    "from sklearn import datasets\n",
    "import matplotlib.pyplot as plt\n",
    "from pennylane import AngleEmbedding, StronglyEntanglingLayers, RandomLayers\n",
    "import pennylane as qml\n",
    "import os\n",
    "import jax\n",
    "from jax import numpy as jnp\n",
    "import equinox as eqx\n",
    "import time\n",
    "from tqdm import tqdm\n",
    "import optax\n",
    "import tensorflow as tf\n",
    "from jaxtyping import Array, Float, PyTree\n",
    "from collections import deque"
   ]
  },
  {
   "cell_type": "code",
   "execution_count": 2,
   "outputs": [
    {
     "name": "stdout",
     "output_type": "stream",
     "text": [
      "[cuda(id=0)]\n"
     ]
    }
   ],
   "source": [
    "print(jax.devices())"
   ],
   "metadata": {
    "collapsed": false,
    "ExecuteTime": {
     "end_time": "2023-12-27T17:05:20.903164100Z",
     "start_time": "2023-12-27T17:05:20.486700500Z"
    }
   },
   "id": "3f300c83b09e535"
  },
  {
   "cell_type": "code",
   "execution_count": 3,
   "outputs": [],
   "source": [
    "key = jax.random.PRNGKey(0)"
   ],
   "metadata": {
    "collapsed": false,
    "ExecuteTime": {
     "end_time": "2023-12-27T17:05:21.444911600Z",
     "start_time": "2023-12-27T17:05:20.903164100Z"
    }
   },
   "id": "39c54f30ec8db92e"
  },
  {
   "cell_type": "code",
   "execution_count": 4,
   "outputs": [],
   "source": [
    "(x_train, y_train), (x_test, y_test) = tf.keras.datasets.mnist.load_data()"
   ],
   "metadata": {
    "collapsed": false,
    "ExecuteTime": {
     "end_time": "2023-12-27T17:05:21.579491300Z",
     "start_time": "2023-12-27T17:05:21.446911100Z"
    }
   },
   "id": "d65e395ea05d480c"
  },
  {
   "cell_type": "code",
   "execution_count": 5,
   "outputs": [],
   "source": [
    "x_train = x_train[:100_000]\n",
    "y_train = y_train[:100_000]\n",
    "\n",
    "x_test = x_test[:40_000]\n",
    "y_test = y_test[:40_000]"
   ],
   "metadata": {
    "collapsed": false,
    "ExecuteTime": {
     "end_time": "2023-12-27T17:05:21.585494800Z",
     "start_time": "2023-12-27T17:05:21.579491300Z"
    }
   },
   "id": "7416888ca1166db8"
  },
  {
   "cell_type": "code",
   "execution_count": 6,
   "outputs": [],
   "source": [
    "y_test = y_test.astype(np.float32)\n",
    "y_train = y_train.astype(np.float32)\n",
    "\n",
    "x_train = x_train.astype(np.float32)\n",
    "x_test = x_test.astype(np.float32)"
   ],
   "metadata": {
    "collapsed": false,
    "ExecuteTime": {
     "end_time": "2023-12-27T17:05:21.637039600Z",
     "start_time": "2023-12-27T17:05:21.582491500Z"
    }
   },
   "id": "bf7de7753308ea8a"
  },
  {
   "cell_type": "code",
   "execution_count": 7,
   "outputs": [],
   "source": [
    "x_train = jnp.expand_dims(x_train, axis=-1)\n",
    "x_test = jnp.expand_dims(x_test, axis=-1)"
   ],
   "metadata": {
    "collapsed": false,
    "ExecuteTime": {
     "end_time": "2023-12-27T17:05:21.773633Z",
     "start_time": "2023-12-27T17:05:21.637039600Z"
    }
   },
   "id": "40739bf8a8bd0089"
  },
  {
   "cell_type": "code",
   "execution_count": 8,
   "outputs": [],
   "source": [
    "x_train = np.transpose(x_train, (0, 3, 1, 2))\n",
    "x_test = np.transpose(x_test, (0, 3, 1, 2))"
   ],
   "metadata": {
    "collapsed": false,
    "ExecuteTime": {
     "end_time": "2023-12-27T17:05:21.807382600Z",
     "start_time": "2023-12-27T17:05:21.773633Z"
    }
   },
   "id": "215de8683db4bb3e"
  },
  {
   "cell_type": "code",
   "execution_count": 9,
   "outputs": [],
   "source": [
    "y_train = jax.nn.one_hot(y_train, 10)\n",
    "y_test = jax.nn.one_hot(y_test, 10)"
   ],
   "metadata": {
    "collapsed": false,
    "ExecuteTime": {
     "end_time": "2023-12-27T17:05:21.855891800Z",
     "start_time": "2023-12-27T17:05:21.807382600Z"
    }
   },
   "id": "9c53de3838c9a454"
  },
  {
   "cell_type": "code",
   "outputs": [],
   "source": [
    "num_qubits = 8\n",
    "in_channel = 2\n",
    "kernel_size = [2, 2]"
   ],
   "metadata": {
    "collapsed": false,
    "ExecuteTime": {
     "end_time": "2023-12-27T17:05:21.866890600Z",
     "start_time": "2023-12-27T17:05:21.858891600Z"
    }
   },
   "id": "686c27669591c673",
   "execution_count": 10
  },
  {
   "cell_type": "code",
   "outputs": [],
   "source": [
    "device = qml.device(\"default.qubit.jax\", wires=num_qubits)\n",
    "\n",
    "@jax.jit\n",
    "@qml.qnode(device, interface=\"jax\")\n",
    "def quantum_conv_circuit(inputs, weights):\n",
    "    AngleEmbedding(inputs, wires=range(num_qubits))\n",
    "    \n",
    "    for weight_set, cell_qubit in enumerate(range(0, num_qubits, in_channel)):\n",
    "        \n",
    "        for channel_qubit in range(0, in_channel):\n",
    "            if cell_qubit + channel_qubit != cell_qubit:\n",
    "                qml.CNOT(wires=[cell_qubit + channel_qubit, cell_qubit])\n",
    "        qml.Rot(weights[weight_set, 0], weights[weight_set, 1], weights[weight_set, 2], wires=cell_qubit)\n",
    "        \n",
    "        if cell_qubit > 0:\n",
    "            qml.CNOT(wires=[cell_qubit, 0])\n",
    "    \n",
    "    qml.Rot(weights[-1, 0], weights[-1, 1], weights[-1, 2], wires=0)\n",
    "    #RandomLayers(weights, wires=range(self.num_qubits))\n",
    "    return qml.expval(qml.PauliZ(wires=0))"
   ],
   "metadata": {
    "collapsed": false,
    "ExecuteTime": {
     "end_time": "2023-12-27T17:05:21.909602500Z",
     "start_time": "2023-12-27T17:05:21.862892600Z"
    }
   },
   "id": "85d5c12afc6795c1",
   "execution_count": 11
  },
  {
   "cell_type": "code",
   "outputs": [],
   "source": [
    "weights = jax.random.normal(jax.random.PRNGKey(0), (sum(kernel_size) + 1, 3))"
   ],
   "metadata": {
    "collapsed": false,
    "ExecuteTime": {
     "end_time": "2023-12-27T17:05:21.981654200Z",
     "start_time": "2023-12-27T17:05:21.956635Z"
    }
   },
   "id": "3f652e148bfb44c8",
   "execution_count": 12
  },
  {
   "cell_type": "code",
   "outputs": [
    {
     "data": {
      "text/plain": "Array(0.05004174, dtype=float32)"
     },
     "execution_count": 13,
     "metadata": {},
     "output_type": "execute_result"
    }
   ],
   "source": [
    "quantum_conv_circuit(jnp.array([2, 2, 3, 2, 5, 6, 7, 8]), weights)"
   ],
   "metadata": {
    "collapsed": false,
    "ExecuteTime": {
     "end_time": "2023-12-27T17:05:22.623679100Z",
     "start_time": "2023-12-27T17:05:21.981654200Z"
    }
   },
   "id": "3e361d334522c6a1",
   "execution_count": 13
  },
  {
   "cell_type": "code",
   "outputs": [
    {
     "name": "stderr",
     "output_type": "stream",
     "text": [
      "/tmp/ipykernel_1758/2255298493.py:2: UserWarning: FigureCanvasAgg is non-interactive, and thus cannot be shown\n",
      "  fig.show()\n"
     ]
    },
    {
     "data": {
      "text/plain": "<Figure size 400x100 with 1 Axes>",
      "image/png": "[encoded data removed]"
     },
     "metadata": {},
     "output_type": "display_data"
    }
   ],
   "source": [
    "fig, ax = qml.draw_mpl(quantum_conv_circuit)(jnp.array([2, 2, 3, 2, 5, 6, 7, 8]), weights)\n",
    "fig.show()"
   ],
   "metadata": {
    "collapsed": false,
    "ExecuteTime": {
     "end_time": "2023-12-27T17:05:22.656203600Z",
     "start_time": "2023-12-27T17:05:22.622674800Z"
    }
   },
   "id": "9e4423dc94592a15",
   "execution_count": 14
  },
  {
   "cell_type": "code",
   "execution_count": 15,
   "outputs": [],
   "source": [
    "class QuantumConv2dLayer(eqx.Module):\n",
    "    filter_size: int\n",
    "    circuit_length: int\n",
    "    padding_mode: str\n",
    "    weight: jax.Array\n",
    "    num_qubits: int\n",
    "    quantum_conv_circuit: list\n",
    "    kernel_size: tuple[int, int]\n",
    "    stride: tuple[int, int]\n",
    "    \n",
    "    def __init__(self, filter_size, circuit_length, kernel_size, stride, padding_mode, in_channel):\n",
    "        super().__init__()\n",
    "        self.filter_size = filter_size\n",
    "        self.circuit_length = circuit_length\n",
    "        self.padding_mode = padding_mode\n",
    "        \n",
    "        self.num_qubits = in_channel * kernel_size[0] * kernel_size[1]\n",
    "        self.weight = jax.random.normal(jax.random.PRNGKey(0), (filter_size, kernel_size[0] + kernel_size[1] + 1, 3))\n",
    "        \n",
    "        self.kernel_size = kernel_size\n",
    "        self.stride = stride\n",
    "\n",
    "        device = qml.device(\"default.qubit.jax\", wires=self.num_qubits)\n",
    "        @jax.jit\n",
    "        @qml.qnode(device, interface=\"jax\")\n",
    "        def quantum_conv_circuit(inputs, weights):\n",
    "            AngleEmbedding(inputs, wires=range(self.num_qubits))\n",
    "            for weight_set, cell_qubit in enumerate(range(0, self.num_qubits, in_channel)):\n",
    "\n",
    "                for channel_qubit in range(0, in_channel):\n",
    "                    if cell_qubit + channel_qubit != cell_qubit:\n",
    "                        qml.CNOT(wires=[cell_qubit + channel_qubit, cell_qubit])\n",
    "                qml.Rot(weights[weight_set, 0], weights[weight_set, 1], weights[weight_set, 2], wires=cell_qubit)\n",
    "\n",
    "                if cell_qubit > 0:\n",
    "                    qml.CNOT(wires=[cell_qubit, 0])\n",
    "\n",
    "                qml.Rot(weights[-1, 0], weights[-1, 1], weights[-1, 2], wires=0)\n",
    "            return qml.expval(qml.PauliZ(wires=0))\n",
    "\n",
    "        self.quantum_conv_circuit = [quantum_conv_circuit]\n",
    "        \n",
    "    @eqx.filter_jit\n",
    "    def apply_on_batch(self, inputs):\n",
    "        # Apply the quantum circuit to each patch\n",
    "        inputs = jnp.transpose(inputs)\n",
    "        outputs = []\n",
    "                \n",
    "        for i in range(self.filter_size):\n",
    "            \n",
    "            outputs.append(\n",
    "                jnp.expand_dims(\n",
    "                    jax.vmap(\n",
    "                        self.quantum_conv_circuit[0], in_axes=(0, None)\n",
    "                    )(inputs, self.weight[i]),\n",
    "                    axis=0\n",
    "                )\n",
    "            )\n",
    "        return jnp.concatenate(outputs, axis=0)\n",
    "    \n",
    "    @eqx.filter_jit\n",
    "    def __call__(self, inputs):\n",
    "        # Extract patches\n",
    "        inputs = jnp.expand_dims(inputs, axis=0)\n",
    "        patches = jax.lax.conv_general_dilated_patches(inputs, self.kernel_size, self.stride, self.padding_mode)\n",
    "        patches_shape = patches.shape\n",
    "        patches_flat = patches.reshape(patches_shape[0], patches_shape[1], patches_shape[2] * patches_shape[3])\n",
    "\n",
    "        # Apply the quantum circuit on each patch\n",
    "        output = jax.vmap(self.apply_on_batch)(patches_flat)\n",
    "        output_shape = patches_shape\n",
    "        \n",
    "        output_shape = (self.filter_size, output_shape[2], output_shape[3])        \n",
    "        # Reshape the output\n",
    "        return output.reshape(output_shape)\n"
   ],
   "metadata": {
    "collapsed": false,
    "ExecuteTime": {
     "end_time": "2023-12-27T17:05:22.657203300Z",
     "start_time": "2023-12-27T17:05:22.650693300Z"
    }
   },
   "id": "bbd88cf914c0cbfb"
  },
  {
   "cell_type": "code",
   "execution_count": 16,
   "outputs": [],
   "source": [
    "class HybrideModel(eqx.Module):\n",
    "    layers: list\n",
    "    \n",
    "    def __init__(self, key):\n",
    "        key1, key2, key3, key4 = jax.random.split(key, 4)\n",
    "        self.layers = [\n",
    "            eqx.nn.Conv2d(1, 1, kernel_size=4, key=key1, stride=3),\n",
    "            jax.nn.sigmoid,\n",
    "            QuantumConv2dLayer(filter_size=8, circuit_length=1, kernel_size=(3, 3), stride=(2, 2), padding_mode='VALID', in_channel=1),\n",
    "            eqx.nn.Conv2d(8, 12, kernel_size=2, key=key3, stride=2),\n",
    "            jax.nn.relu,\n",
    "            jnp.ravel,\n",
    "            eqx.nn.Linear(48, 10, key=key3),\n",
    "            jax.nn.softmax\n",
    "        ]\n",
    "        \n",
    "    @eqx.filter_jit\n",
    "    def __call__(self, x):\n",
    "        \n",
    "        for layer in self.layers:\n",
    "            x = layer(x)\n",
    "        return x\n",
    "    \n",
    "key, subkey = jax.random.split(key, 2)\n",
    "model = HybrideModel(subkey)"
   ],
   "metadata": {
    "collapsed": false,
    "ExecuteTime": {
     "end_time": "2023-12-27T17:05:23.099649300Z",
     "start_time": "2023-12-27T17:05:22.653693800Z"
    }
   },
   "id": "1bb1ce309577ece1"
  },
  {
   "cell_type": "code",
   "execution_count": 17,
   "outputs": [],
   "source": [
    "@eqx.filter_jit\n",
    "def categorical_crossentropy(model, inputs, targets):\n",
    "    \n",
    "    y_pred = jax.vmap(model)(inputs)\n",
    "    \n",
    "    y_pred = jnp.clip(y_pred, 1e-7, 1 - 1e-7)\n",
    "    \n",
    "    loss = -jnp.sum(targets * jnp.log(y_pred), axis=-1)\n",
    "    \n",
    "    return jnp.mean(loss), y_pred\n",
    "\n",
    "@eqx.filter_jit\n",
    "def categorical_accuracy(y_true, y_pred):\n",
    "    true_labels = jnp.argmax(y_true, axis=-1)\n",
    "    predicted_labels = jnp.argmax(y_pred, axis=-1)\n",
    "\n",
    "    # Comparer les indices pour calculer la précision\n",
    "    return jnp.mean(true_labels == predicted_labels)\n",
    "    \n",
    "\n",
    "@eqx.filter_jit\n",
    "def train_step(model, opt_state, inputs, target):\n",
    "    \n",
    "    (loss_value, y_pred), grads = eqx.filter_value_and_grad(categorical_crossentropy, has_aux=True)(model, inputs, target)\n",
    "    \n",
    "    updates, opt_state = optim.update(grads, opt_state, model)\n",
    "    model = eqx.apply_updates(model, updates)\n",
    "    \n",
    "    accuracy = categorical_accuracy(target, y_pred)\n",
    "    \n",
    "    \n",
    "    return model, opt_state, loss_value, accuracy\n",
    "\n",
    "@eqx.filter_jit\n",
    "def test_step(model, inputs, target):\n",
    "    loss_value, y_pred = categorical_crossentropy(model, inputs, target)\n",
    "    \n",
    "    accuracy = categorical_accuracy(target, y_pred)\n",
    "    \n",
    "    return loss_value, accuracy\n",
    "    "
   ],
   "metadata": {
    "collapsed": false,
    "ExecuteTime": {
     "end_time": "2023-12-27T17:05:23.109166200Z",
     "start_time": "2023-12-27T17:05:23.104166600Z"
    }
   },
   "id": "32027550e935df04"
  },
  {
   "cell_type": "code",
   "execution_count": 18,
   "outputs": [],
   "source": [
    "def batch(array, batch_size):\n",
    "    return np.array_split(array, np.ceil(len(array) / batch_size))"
   ],
   "metadata": {
    "collapsed": false,
    "ExecuteTime": {
     "end_time": "2023-12-27T17:05:23.118170400Z",
     "start_time": "2023-12-27T17:05:23.107165900Z"
    }
   },
   "id": "dd9d4d117e7157cc"
  },
  {
   "cell_type": "code",
   "execution_count": 19,
   "outputs": [],
   "source": [
    "optim = optax.adamax(0.002)\n",
    "opt_state = optim.init(eqx.filter(model, eqx.is_array))\n",
    "epochs = 20\n",
    "batch_size = 8"
   ],
   "metadata": {
    "collapsed": false,
    "ExecuteTime": {
     "end_time": "2023-12-27T17:05:23.275099800Z",
     "start_time": "2023-12-27T17:05:23.118170400Z"
    }
   },
   "id": "40935ad5d17ba8cc"
  },
  {
   "cell_type": "code",
   "execution_count": 20,
   "outputs": [],
   "source": [
    "x_train_batch = batch(x_train, batch_size=batch_size)\n",
    "y_train_batch = batch(y_train, batch_size=batch_size)\n",
    "\n",
    "x_test_batch = batch(x_test, batch_size=batch_size)\n",
    "y_test_batch = batch(y_test, batch_size=batch_size)"
   ],
   "metadata": {
    "collapsed": false,
    "ExecuteTime": {
     "end_time": "2023-12-27T17:05:30.384539600Z",
     "start_time": "2023-12-27T17:05:23.275099800Z"
    }
   },
   "id": "68b0bef5aaf0e4f"
  },
  {
   "cell_type": "code",
   "execution_count": 21,
   "outputs": [
    {
     "name": "stdout",
     "output_type": "stream",
     "text": [
      "Starting epoch: 1\n"
     ]
    },
    {
     "name": "stderr",
     "output_type": "stream",
     "text": [
      "100%|██████████| 7500/7500 [01:11<00:00, 104.67it/s]\n"
     ]
    },
    {
     "name": "stdout",
     "output_type": "stream",
     "text": [
      "Train Loss: 1.090925693511963\n",
      "Train Accuracy: 0.6467999815940857\n"
     ]
    },
    {
     "name": "stderr",
     "output_type": "stream",
     "text": [
      "100%|██████████| 1250/1250 [00:12<00:00, 99.93it/s] \n"
     ]
    },
    {
     "name": "stdout",
     "output_type": "stream",
     "text": [
      "Test Loss: 0.7057780027389526\n",
      "Test Accuracy: 0.7698000073432922\n",
      "Starting epoch: 2\n"
     ]
    },
    {
     "name": "stderr",
     "output_type": "stream",
     "text": [
      "100%|██████████| 7500/7500 [00:54<00:00, 136.49it/s]\n"
     ]
    },
    {
     "name": "stdout",
     "output_type": "stream",
     "text": [
      "Train Loss: 0.633529543876648\n",
      "Train Accuracy: 0.7980499863624573\n"
     ]
    },
    {
     "name": "stderr",
     "output_type": "stream",
     "text": [
      "100%|██████████| 1250/1250 [00:02<00:00, 419.63it/s]\n"
     ]
    },
    {
     "name": "stdout",
     "output_type": "stream",
     "text": [
      "Test Loss: 0.5502058863639832\n",
      "Test Accuracy: 0.8264999985694885\n",
      "Starting epoch: 3\n"
     ]
    },
    {
     "name": "stderr",
     "output_type": "stream",
     "text": [
      "100%|██████████| 7500/7500 [00:56<00:00, 133.86it/s]\n"
     ]
    },
    {
     "name": "stdout",
     "output_type": "stream",
     "text": [
      "Train Loss: 0.5266749262809753\n",
      "Train Accuracy: 0.8317000269889832\n"
     ]
    },
    {
     "name": "stderr",
     "output_type": "stream",
     "text": [
      "100%|██████████| 1250/1250 [00:02<00:00, 423.78it/s]\n"
     ]
    },
    {
     "name": "stdout",
     "output_type": "stream",
     "text": [
      "Test Loss: 0.4722748100757599\n",
      "Test Accuracy: 0.8495000004768372\n",
      "Starting epoch: 4\n"
     ]
    },
    {
     "name": "stderr",
     "output_type": "stream",
     "text": [
      "100%|██████████| 7500/7500 [00:55<00:00, 133.95it/s]\n"
     ]
    },
    {
     "name": "stdout",
     "output_type": "stream",
     "text": [
      "Train Loss: 0.46068844199180603\n",
      "Train Accuracy: 0.853683352470398\n"
     ]
    },
    {
     "name": "stderr",
     "output_type": "stream",
     "text": [
      "100%|██████████| 1250/1250 [00:02<00:00, 424.41it/s]\n"
     ]
    },
    {
     "name": "stdout",
     "output_type": "stream",
     "text": [
      "Test Loss: 0.4342370629310608\n",
      "Test Accuracy: 0.8600999712944031\n",
      "Starting epoch: 5\n"
     ]
    },
    {
     "name": "stderr",
     "output_type": "stream",
     "text": [
      "100%|██████████| 7500/7500 [00:55<00:00, 134.03it/s]\n"
     ]
    },
    {
     "name": "stdout",
     "output_type": "stream",
     "text": [
      "Train Loss: 0.42047199606895447\n",
      "Train Accuracy: 0.8673166632652283\n"
     ]
    },
    {
     "name": "stderr",
     "output_type": "stream",
     "text": [
      "100%|██████████| 1250/1250 [00:02<00:00, 429.56it/s]\n"
     ]
    },
    {
     "name": "stdout",
     "output_type": "stream",
     "text": [
      "Test Loss: 0.3891635239124298\n",
      "Test Accuracy: 0.8762999773025513\n",
      "Starting epoch: 6\n"
     ]
    },
    {
     "name": "stderr",
     "output_type": "stream",
     "text": [
      "100%|██████████| 7500/7500 [00:56<00:00, 133.56it/s]\n"
     ]
    },
    {
     "name": "stdout",
     "output_type": "stream",
     "text": [
      "Train Loss: 0.38530024886131287\n",
      "Train Accuracy: 0.8808500170707703\n"
     ]
    },
    {
     "name": "stderr",
     "output_type": "stream",
     "text": [
      "100%|██████████| 1250/1250 [00:02<00:00, 422.07it/s]\n"
     ]
    },
    {
     "name": "stdout",
     "output_type": "stream",
     "text": [
      "Test Loss: 0.35463693737983704\n",
      "Test Accuracy: 0.8877999782562256\n",
      "Starting epoch: 7\n"
     ]
    },
    {
     "name": "stderr",
     "output_type": "stream",
     "text": [
      "100%|██████████| 7500/7500 [00:55<00:00, 133.97it/s]\n"
     ]
    },
    {
     "name": "stdout",
     "output_type": "stream",
     "text": [
      "Train Loss: 0.35309159755706787\n",
      "Train Accuracy: 0.8914166688919067\n"
     ]
    },
    {
     "name": "stderr",
     "output_type": "stream",
     "text": [
      "100%|██████████| 1250/1250 [00:02<00:00, 423.89it/s]\n"
     ]
    },
    {
     "name": "stdout",
     "output_type": "stream",
     "text": [
      "Test Loss: 0.3250654637813568\n",
      "Test Accuracy: 0.8985999822616577\n",
      "Starting epoch: 8\n"
     ]
    },
    {
     "name": "stderr",
     "output_type": "stream",
     "text": [
      "100%|██████████| 7500/7500 [00:55<00:00, 133.95it/s]\n"
     ]
    },
    {
     "name": "stdout",
     "output_type": "stream",
     "text": [
      "Train Loss: 0.33014342188835144\n",
      "Train Accuracy: 0.8991333246231079\n"
     ]
    },
    {
     "name": "stderr",
     "output_type": "stream",
     "text": [
      "100%|██████████| 1250/1250 [00:02<00:00, 428.50it/s]\n"
     ]
    },
    {
     "name": "stdout",
     "output_type": "stream",
     "text": [
      "Test Loss: 0.3050464987754822\n",
      "Test Accuracy: 0.9052000045776367\n",
      "Starting epoch: 9\n"
     ]
    },
    {
     "name": "stderr",
     "output_type": "stream",
     "text": [
      "100%|██████████| 7500/7500 [00:55<00:00, 134.02it/s]\n"
     ]
    },
    {
     "name": "stdout",
     "output_type": "stream",
     "text": [
      "Train Loss: 0.3123653829097748\n",
      "Train Accuracy: 0.904783308506012\n"
     ]
    },
    {
     "name": "stderr",
     "output_type": "stream",
     "text": [
      "100%|██████████| 1250/1250 [00:02<00:00, 422.48it/s]\n"
     ]
    },
    {
     "name": "stdout",
     "output_type": "stream",
     "text": [
      "Test Loss: 0.29002007842063904\n",
      "Test Accuracy: 0.9104999899864197\n",
      "Starting epoch: 10\n"
     ]
    },
    {
     "name": "stderr",
     "output_type": "stream",
     "text": [
      "100%|██████████| 7500/7500 [00:55<00:00, 133.94it/s]\n"
     ]
    },
    {
     "name": "stdout",
     "output_type": "stream",
     "text": [
      "Train Loss: 0.29819780588150024\n",
      "Train Accuracy: 0.9087166786193848\n"
     ]
    },
    {
     "name": "stderr",
     "output_type": "stream",
     "text": [
      "100%|██████████| 1250/1250 [00:02<00:00, 424.49it/s]\n"
     ]
    },
    {
     "name": "stdout",
     "output_type": "stream",
     "text": [
      "Test Loss: 0.2739640176296234\n",
      "Test Accuracy: 0.9157999753952026\n",
      "Starting epoch: 11\n"
     ]
    },
    {
     "name": "stderr",
     "output_type": "stream",
     "text": [
      "100%|██████████| 7500/7500 [00:55<00:00, 133.99it/s]\n"
     ]
    },
    {
     "name": "stdout",
     "output_type": "stream",
     "text": [
      "Train Loss: 0.2858319878578186\n",
      "Train Accuracy: 0.9123499989509583\n"
     ]
    },
    {
     "name": "stderr",
     "output_type": "stream",
     "text": [
      "100%|██████████| 1250/1250 [00:02<00:00, 423.70it/s]\n"
     ]
    },
    {
     "name": "stdout",
     "output_type": "stream",
     "text": [
      "Test Loss: 0.26580914855003357\n",
      "Test Accuracy: 0.9186999797821045\n",
      "Starting epoch: 12\n"
     ]
    },
    {
     "name": "stderr",
     "output_type": "stream",
     "text": [
      "100%|██████████| 7500/7500 [00:56<00:00, 133.87it/s]\n"
     ]
    },
    {
     "name": "stdout",
     "output_type": "stream",
     "text": [
      "Train Loss: 0.27565911412239075\n",
      "Train Accuracy: 0.9150000214576721\n"
     ]
    },
    {
     "name": "stderr",
     "output_type": "stream",
     "text": [
      "100%|██████████| 1250/1250 [00:02<00:00, 423.15it/s]\n"
     ]
    },
    {
     "name": "stdout",
     "output_type": "stream",
     "text": [
      "Test Loss: 0.2566033601760864\n",
      "Test Accuracy: 0.9215999841690063\n",
      "Starting epoch: 13\n"
     ]
    },
    {
     "name": "stderr",
     "output_type": "stream",
     "text": [
      "100%|██████████| 7500/7500 [00:56<00:00, 133.66it/s]\n"
     ]
    },
    {
     "name": "stdout",
     "output_type": "stream",
     "text": [
      "Train Loss: 0.26611363887786865\n",
      "Train Accuracy: 0.9178833365440369\n"
     ]
    },
    {
     "name": "stderr",
     "output_type": "stream",
     "text": [
      "100%|██████████| 1250/1250 [00:02<00:00, 425.44it/s]\n"
     ]
    },
    {
     "name": "stdout",
     "output_type": "stream",
     "text": [
      "Test Loss: 0.2516675889492035\n",
      "Test Accuracy: 0.9222999811172485\n",
      "Starting epoch: 14\n"
     ]
    },
    {
     "name": "stderr",
     "output_type": "stream",
     "text": [
      "100%|██████████| 7500/7500 [00:56<00:00, 133.44it/s]\n"
     ]
    },
    {
     "name": "stdout",
     "output_type": "stream",
     "text": [
      "Train Loss: 0.25807511806488037\n",
      "Train Accuracy: 0.9203166961669922\n"
     ]
    },
    {
     "name": "stderr",
     "output_type": "stream",
     "text": [
      "100%|██████████| 1250/1250 [00:02<00:00, 419.66it/s]\n"
     ]
    },
    {
     "name": "stdout",
     "output_type": "stream",
     "text": [
      "Test Loss: 0.24716763198375702\n",
      "Test Accuracy: 0.9247999787330627\n",
      "Starting epoch: 15\n"
     ]
    },
    {
     "name": "stderr",
     "output_type": "stream",
     "text": [
      "100%|██████████| 7500/7500 [00:56<00:00, 133.40it/s]\n"
     ]
    },
    {
     "name": "stdout",
     "output_type": "stream",
     "text": [
      "Train Loss: 0.2501511573791504\n",
      "Train Accuracy: 0.9231333136558533\n"
     ]
    },
    {
     "name": "stderr",
     "output_type": "stream",
     "text": [
      "100%|██████████| 1250/1250 [00:02<00:00, 421.71it/s]\n"
     ]
    },
    {
     "name": "stdout",
     "output_type": "stream",
     "text": [
      "Test Loss: 0.24116870760917664\n",
      "Test Accuracy: 0.925599992275238\n",
      "Starting epoch: 16\n"
     ]
    },
    {
     "name": "stderr",
     "output_type": "stream",
     "text": [
      "100%|██████████| 7500/7500 [00:56<00:00, 133.48it/s]\n"
     ]
    },
    {
     "name": "stdout",
     "output_type": "stream",
     "text": [
      "Train Loss: 0.24290670454502106\n",
      "Train Accuracy: 0.9254999756813049\n"
     ]
    },
    {
     "name": "stderr",
     "output_type": "stream",
     "text": [
      "100%|██████████| 1250/1250 [00:02<00:00, 420.68it/s]\n"
     ]
    },
    {
     "name": "stdout",
     "output_type": "stream",
     "text": [
      "Test Loss: 0.23716093599796295\n",
      "Test Accuracy: 0.9283000230789185\n",
      "Starting epoch: 17\n"
     ]
    },
    {
     "name": "stderr",
     "output_type": "stream",
     "text": [
      "100%|██████████| 7500/7500 [00:56<00:00, 133.46it/s]\n"
     ]
    },
    {
     "name": "stdout",
     "output_type": "stream",
     "text": [
      "Train Loss: 0.236563041806221\n",
      "Train Accuracy: 0.9278666377067566\n"
     ]
    },
    {
     "name": "stderr",
     "output_type": "stream",
     "text": [
      "100%|██████████| 1250/1250 [00:02<00:00, 424.30it/s]\n"
     ]
    },
    {
     "name": "stdout",
     "output_type": "stream",
     "text": [
      "Test Loss: 0.22801223397254944\n",
      "Test Accuracy: 0.9304999709129333\n",
      "Starting epoch: 18\n"
     ]
    },
    {
     "name": "stderr",
     "output_type": "stream",
     "text": [
      "100%|██████████| 7500/7500 [00:56<00:00, 132.74it/s]\n"
     ]
    },
    {
     "name": "stdout",
     "output_type": "stream",
     "text": [
      "Train Loss: 0.23014244437217712\n",
      "Train Accuracy: 0.9296000003814697\n"
     ]
    },
    {
     "name": "stderr",
     "output_type": "stream",
     "text": [
      "100%|██████████| 1250/1250 [00:02<00:00, 426.45it/s]\n"
     ]
    },
    {
     "name": "stdout",
     "output_type": "stream",
     "text": [
      "Test Loss: 0.21773554384708405\n",
      "Test Accuracy: 0.9320999979972839\n",
      "Starting epoch: 19\n"
     ]
    },
    {
     "name": "stderr",
     "output_type": "stream",
     "text": [
      "100%|██████████| 7500/7500 [00:56<00:00, 133.62it/s]\n"
     ]
    },
    {
     "name": "stdout",
     "output_type": "stream",
     "text": [
      "Train Loss: 0.22511595487594604\n",
      "Train Accuracy: 0.9315000176429749\n"
     ]
    },
    {
     "name": "stderr",
     "output_type": "stream",
     "text": [
      "100%|██████████| 1250/1250 [00:02<00:00, 424.59it/s]\n"
     ]
    },
    {
     "name": "stdout",
     "output_type": "stream",
     "text": [
      "Test Loss: 0.21281252801418304\n",
      "Test Accuracy: 0.9329000115394592\n",
      "Starting epoch: 20\n"
     ]
    },
    {
     "name": "stderr",
     "output_type": "stream",
     "text": [
      "100%|██████████| 7500/7500 [00:55<00:00, 135.27it/s]\n"
     ]
    },
    {
     "name": "stdout",
     "output_type": "stream",
     "text": [
      "Train Loss: 0.22052864730358124\n",
      "Train Accuracy: 0.9328833222389221\n"
     ]
    },
    {
     "name": "stderr",
     "output_type": "stream",
     "text": [
      "100%|██████████| 1250/1250 [00:02<00:00, 422.08it/s]\n"
     ]
    },
    {
     "name": "stdout",
     "output_type": "stream",
     "text": [
      "Test Loss: 0.21010683476924896\n",
      "Test Accuracy: 0.9343000054359436\n"
     ]
    }
   ],
   "source": [
    "for step in range(epochs):\n",
    "    accuracys = deque()\n",
    "    losss = deque()\n",
    "    print(f\"Starting epoch: {step + 1}\")\n",
    "    \n",
    "    for (x_batch, y_batch) in tqdm(zip(x_train_batch, y_train_batch), total=len(x_train_batch)):\n",
    "        model, opt_state, loss_val, accuracy = train_step(model, opt_state, x_batch, y_batch)\n",
    "        accuracys.append(accuracy)\n",
    "        losss.append(loss_val)\n",
    "    print(f\"Train Loss: {np.mean(losss)}\")\n",
    "    print(f\"Train Accuracy: {np.mean(accuracys)}\")\n",
    "    \n",
    "    test_accuracys = deque()\n",
    "    test_losss = deque()\n",
    "    for (x_batch, y_batch) in tqdm(zip(x_test_batch, y_test_batch), total=len(x_test_batch)):\n",
    "        loss_val, accuracy = test_step(model, x_batch, y_batch)\n",
    "        \n",
    "        test_accuracys.append(accuracy)\n",
    "        test_losss.append(loss_val)\n",
    "    print(f\"Test Loss: {np.mean(test_losss)}\")\n",
    "    print(f\"Test Accuracy: {np.mean(test_accuracys)}\")\n",
    "        "
   ],
   "metadata": {
    "collapsed": false,
    "ExecuteTime": {
     "end_time": "2023-12-27T17:26:25.105668700Z",
     "start_time": "2023-12-27T17:05:30.388053200Z"
    }
   },
   "id": "d926d15dcca96cf6"
  },
  {
   "cell_type": "code",
   "execution_count": 21,
   "outputs": [],
   "source": [],
   "metadata": {
    "collapsed": false,
    "ExecuteTime": {
     "end_time": "2023-12-27T17:26:25.153797800Z",
     "start_time": "2023-12-27T17:26:25.105668700Z"
    }
   },
   "id": "647ee35bd842a093"
  }
 ],
 "metadata": {
  "kernelspec": {
   "display_name": "Python 3",
   "language": "python",
   "name": "python3"
  },
  "language_info": {
   "codemirror_mode": {
    "name": "ipython",
    "version": 2
   },
   "file_extension": ".py",
   "mimetype": "text/x-python",
   "name": "python",
   "nbconvert_exporter": "python",
   "pygments_lexer": "ipython2",
   "version": "2.7.6"
  }
 },
 "nbformat": 4,
 "nbformat_minor": 5
}

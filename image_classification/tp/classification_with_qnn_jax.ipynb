{
 "cells": [
  {
   "cell_type": "code",
   "execution_count": null,
   "id": "initial_id",
   "metadata": {
    "collapsed": true
   },
   "outputs": [],
   "source": [
    "import numpy as np\n",
    "import matplotlib.pyplot as plt\n",
    "from pennylane import AngleEmbedding, StronglyEntanglingLayers, RandomLayers\n",
    "import pennylane as qml\n",
    "import os\n",
    "import jax\n",
    "from jax import numpy as jnp\n",
    "import equinox as eqx\n",
    "import time\n",
    "from tqdm import tqdm\n",
    "import optax\n",
    "import tensorflow as tf\n",
    "from jaxtyping import Array, Float, PyTree\n",
    "from collections import deque"
   ]
  },
  {
   "cell_type": "code",
   "execution_count": null,
   "outputs": [],
   "source": [
    "print(jax.devices())"
   ],
   "metadata": {
    "collapsed": false
   },
   "id": "3f300c83b09e535"
  },
  {
   "cell_type": "code",
   "execution_count": null,
   "outputs": [],
   "source": [
    "key = jax.random.PRNGKey(0)"
   ],
   "metadata": {
    "collapsed": false
   },
   "id": "39c54f30ec8db92e"
  },
  {
   "cell_type": "code",
   "execution_count": null,
   "outputs": [],
   "source": [
    "(x_train, y_train), (x_test, y_test) = tf.keras.datasets.mnist.load_data()"
   ],
   "metadata": {
    "collapsed": false
   },
   "id": "d65e395ea05d480c"
  },
  {
   "cell_type": "code",
   "execution_count": null,
   "outputs": [],
   "source": [
    "x_train = x_train[:100_000]\n",
    "y_train = y_train[:100_000]\n",
    "\n",
    "x_test = x_test[:20_000]\n",
    "y_test = y_test[:20_000]"
   ],
   "metadata": {
    "collapsed": false
   },
   "id": "7416888ca1166db8"
  },
  {
   "cell_type": "code",
   "outputs": [],
   "source": [
    "# TODO teste a quantum circuit for a quantum convolution layer\n",
    "device = # TODO create a device to support the quantum circuit\n",
    "\n",
    "@jax.jit\n",
    "@qml.qnode(device, interface=\"jax\")\n",
    "def quantum_conv_circuit(inputs, weights):\n",
    "    pass"
   ],
   "metadata": {
    "collapsed": false
   },
   "id": "65e383066fe65da",
   "execution_count": null
  },
  {
   "cell_type": "code",
   "execution_count": null,
   "outputs": [],
   "source": [
    "class QuantumConv2d(eqx.Module):\n",
    "    filter_size: int\n",
    "    padding_mode: str\n",
    "    weight: jax.Array\n",
    "    num_qubits: int\n",
    "    quantum_conv_circuit: list\n",
    "    kernel_size: tuple[int, int]\n",
    "    stride: tuple[int, int]\n",
    "    \n",
    "    def __init__(self, filter_size, kernel_size, stride, padding_mode, in_channel, key):\n",
    "        super().__init__()\n",
    "        self.filter_size = filter_size\n",
    "        self.kernel_size = kernel_size\n",
    "        self.stride = stride\n",
    "        self.padding_mode = padding_mode\n",
    "        \n",
    "        # TODO set up weight variables and quantum circuit for quanvolution\n",
    "        \n",
    "        ###\n",
    "    \n",
    "    @eqx.filter_jit\n",
    "    def apply_on_patches(self, inputs):\n",
    "        # TODO apply quanvolution throw filter and patches\n",
    "        pass\n",
    "    \n",
    "    @eqx.filter_jit\n",
    "    def __call__(self, inputs):\n",
    "        # TODO create the call function of the layer \n",
    "        pass\n",
    "        "
   ],
   "metadata": {
    "collapsed": false
   },
   "id": "bbd88cf914c0cbfb"
  },
  {
   "cell_type": "code",
   "execution_count": null,
   "outputs": [],
   "source": [
    "class HybrideModel(eqx.Module):\n",
    "    layers: list\n",
    "    \n",
    "    def __init__(self, key):\n",
    "        \n",
    "        key1, key2, key3, key4 = jax.random.split(key, 4)\n",
    "        # TODO set up layers to create the hybride model\n",
    "        \n",
    "    @eqx.filter_jit\n",
    "    def __call__(self, x):\n",
    "        \n",
    "        for layer in self.layers:\n",
    "            x = layer(x)\n",
    "        return x\n",
    "    \n",
    "key, subkey = jax.random.split(key, 2)\n",
    "model = HybrideModel(subkey)"
   ],
   "metadata": {
    "collapsed": false
   },
   "id": "1bb1ce309577ece1"
  },
  {
   "cell_type": "code",
   "outputs": [],
   "source": [
    "def confusion_matrix(y_true, y_pred, num_classes):\n",
    "    \n",
    "    minlength = num_classes**2\n",
    "    return jnp.bincount(num_classes * y_true.astype(jnp.int32) + y_pred, minlength=minlength).reshape((num_classes, num_classes))\n",
    "\n",
    "\n",
    "def precision_recall_f1(y_true, y_pred, num_classes):\n",
    "    \n",
    "    cm = confusion_matrix(y_true, y_pred, num_classes)\n",
    "    true_positives = jnp.diag(cm)\n",
    "    pred_positives = jnp.sum(cm, axis=0)\n",
    "    real_positives = jnp.sum(cm, axis=1)\n",
    "\n",
    "    precision = true_positives / jnp.maximum(1.0, pred_positives)\n",
    "    recall = true_positives / jnp.maximum(1.0, real_positives)\n",
    "\n",
    "    f1_score = 2 * precision * recall / (precision + recall + 1e-7)\n",
    "    return precision, recall, f1_score\n",
    "\n",
    "def classification_report(model, x_test, y_target):\n",
    "    all_y_pred = []\n",
    "    all_y_target = []\n",
    "    for (x_batch, y_batch) in tqdm(zip(x_test, y_target), total=len(x_test_batch)):\n",
    "        y_pred = jax.vmap(model)(x_batch)\n",
    "        y_pred = jnp.argmax(y_pred, axis=-1)\n",
    "        y_batch = jnp.argmax(y_batch, axis=-1)\n",
    "        \n",
    "        all_y_pred.append(y_pred)\n",
    "        all_y_target.append(y_batch)\n",
    "    \n",
    "    all_y_pred = jnp.concatenate(all_y_pred, axis=0)\n",
    "    all_y_target = jnp.concatenate(all_y_target, axis=0)\n",
    "    \n",
    "    _, _, f1_score = precision_recall_f1(all_y_target, all_y_pred, 10)\n",
    "    return f1_score"
   ],
   "metadata": {
    "collapsed": false
   },
   "id": "f6d892ca595fccf3",
   "execution_count": null
  },
  {
   "cell_type": "code",
   "execution_count": null,
   "outputs": [],
   "source": [
    "@eqx.filter_jit\n",
    "def categorical_crossentropy(model, inputs, targets):\n",
    "    \n",
    "    y_pred = jax.vmap(model)(inputs)\n",
    "    \n",
    "    y_pred = jnp.clip(y_pred, 1e-7, 1 - 1e-7)\n",
    "    \n",
    "    loss = -jnp.sum(targets * jnp.log(y_pred), axis=-1)\n",
    "    \n",
    "    return jnp.mean(loss), y_pred\n",
    "\n",
    "@eqx.filter_jit\n",
    "def categorical_accuracy(y_true, y_pred):\n",
    "    true_labels = jnp.argmax(y_true, axis=-1)\n",
    "    predicted_labels = jnp.argmax(y_pred, axis=-1)\n",
    "\n",
    "    # Comparer les indices pour calculer la précision\n",
    "    return jnp.mean(true_labels == predicted_labels)\n",
    "    \n",
    "\n",
    "@eqx.filter_jit\n",
    "def train_step(model, opt_state, inputs, target):\n",
    "    # TODO create the train step function\n",
    "    pass\n",
    "    \n",
    "\n",
    "@eqx.filter_jit\n",
    "def test_step(model, inputs, target):\n",
    "    # TODO create the test step function\n",
    "    pass\n",
    "    \n",
    "    "
   ],
   "metadata": {
    "collapsed": false
   },
   "id": "32027550e935df04"
  },
  {
   "cell_type": "code",
   "execution_count": null,
   "outputs": [],
   "source": [
    "# set up optimizer\n",
    "optim = #\n",
    "opt_state = #\n",
    "epochs = 20\n",
    "batch_size = 8"
   ],
   "metadata": {
    "collapsed": false
   },
   "id": "40935ad5d17ba8cc"
  },
  {
   "cell_type": "code",
   "outputs": [],
   "source": [
    "def batch(array, batch_size):\n",
    "    return np.array_split(array, np.ceil(len(array) / batch_size))"
   ],
   "metadata": {
    "collapsed": false
   },
   "id": "94de639529611d58",
   "execution_count": null
  },
  {
   "cell_type": "code",
   "execution_count": null,
   "outputs": [],
   "source": [
    "x_train_batch = batch(x_train, batch_size=batch_size)\n",
    "y_train_batch = batch(y_train, batch_size=batch_size)\n",
    "\n",
    "x_test_batch = batch(x_test, batch_size=batch_size)\n",
    "y_test_batch = batch(y_test, batch_size=batch_size)"
   ],
   "metadata": {
    "collapsed": false
   },
   "id": "68b0bef5aaf0e4f"
  },
  {
   "cell_type": "code",
   "execution_count": null,
   "outputs": [],
   "source": [
    "for step in range(epochs):\n",
    "    accuracys = deque()\n",
    "    losss = deque()\n",
    "    print(f\"Starting epoch: {step + 1}\")\n",
    "    \n",
    "    # TODO apply training step on batched data\n",
    "    \n",
    "    print(f\"Train Loss: {np.mean(losss)} Train Accuracy: {np.mean(accuracys)}\")\n",
    "    \n",
    "    test_accuracys = deque()\n",
    "    test_losss = deque()\n",
    "    # TODO test the model on batched test data for a periodic evaluation\n",
    "    \n",
    "    print(f\"Test Loss: {np.mean(test_losss)} Test Accuracy {np.mean(test_accuracys)}\")"
   ],
   "metadata": {
    "collapsed": false
   },
   "id": "d926d15dcca96cf6"
  },
  {
   "cell_type": "code",
   "outputs": [],
   "source": [
    "list(classification_report(model, x_test_batch, y_test_batch))"
   ],
   "metadata": {
    "collapsed": false
   },
   "id": "d2b973c1339ef465",
   "execution_count": null
  },
  {
   "cell_type": "code",
   "outputs": [],
   "source": [],
   "metadata": {
    "collapsed": false
   },
   "id": "1150785aea047d50",
   "execution_count": null
  }
 ],
 "metadata": {
  "kernelspec": {
   "display_name": "Python 3",
   "language": "python",
   "name": "python3"
  },
  "language_info": {
   "codemirror_mode": {
    "name": "ipython",
    "version": 2
   },
   "file_extension": ".py",
   "mimetype": "text/x-python",
   "name": "python",
   "nbconvert_exporter": "python",
   "pygments_lexer": "ipython2",
   "version": "2.7.6"
  }
 },
 "nbformat": 4,
 "nbformat_minor": 5
}

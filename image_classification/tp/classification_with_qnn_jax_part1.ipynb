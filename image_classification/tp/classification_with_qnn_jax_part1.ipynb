{
 "cells": [
  {
   "cell_type": "code",
   "execution_count": 1,
   "id": "initial_id",
   "metadata": {
    "collapsed": true,
    "ExecuteTime": {
     "end_time": "2024-02-14T07:31:10.873228300Z",
     "start_time": "2024-02-14T07:31:07.461745300Z"
    }
   },
   "outputs": [],
   "source": [
    "#import os\n",
    "#os.environ[\"JAX_PLATFORM_NAME\"] = \"cpu\"\n",
    "import numpy as np\n",
    "import matplotlib.pyplot as plt\n",
    "from pennylane import AngleEmbedding, StronglyEntanglingLayers, RandomLayers\n",
    "import pennylane as qml\n",
    "import os\n",
    "import jax\n",
    "from jax import numpy as jnp\n",
    "import equinox as eqx\n",
    "import time\n",
    "from tqdm import tqdm\n",
    "import optax\n",
    "import tensorflow as tf\n",
    "from jaxtyping import Array, Float, PyTree\n",
    "from collections import deque\n",
    "from PIL import Image "
   ]
  },
  {
   "cell_type": "code",
   "execution_count": 2,
   "outputs": [
    {
     "name": "stdout",
     "output_type": "stream",
     "text": [
      "[cuda(id=0)]\n"
     ]
    }
   ],
   "source": [
    "print(jax.devices())"
   ],
   "metadata": {
    "collapsed": false,
    "ExecuteTime": {
     "end_time": "2024-02-14T07:31:11.259766200Z",
     "start_time": "2024-02-14T07:31:10.877738100Z"
    }
   },
   "id": "3f300c83b09e535"
  },
  {
   "cell_type": "code",
   "execution_count": 3,
   "outputs": [],
   "source": [
    "key = jax.random.PRNGKey(0)"
   ],
   "metadata": {
    "collapsed": false,
    "ExecuteTime": {
     "end_time": "2024-02-14T07:31:11.718242800Z",
     "start_time": "2024-02-14T07:31:11.259766200Z"
    }
   },
   "id": "39c54f30ec8db92e"
  },
  {
   "cell_type": "code",
   "execution_count": 4,
   "outputs": [],
   "source": [
    "(x_train, y_train), (x_test, y_test) = tf.keras.datasets.mnist.load_data()"
   ],
   "metadata": {
    "collapsed": false,
    "ExecuteTime": {
     "end_time": "2024-02-14T07:31:11.909871900Z",
     "start_time": "2024-02-14T07:31:11.717241200Z"
    }
   },
   "id": "d65e395ea05d480c"
  },
  {
   "cell_type": "code",
   "execution_count": 5,
   "outputs": [],
   "source": [
    "x_train = x_train[:50_000]\n",
    "y_train = y_train[:50_000]\n",
    "\n",
    "x_test = x_test[:10_000]\n",
    "y_test = y_test[:10_000]"
   ],
   "metadata": {
    "collapsed": false,
    "ExecuteTime": {
     "end_time": "2024-02-14T07:31:11.911874700Z",
     "start_time": "2024-02-14T07:31:11.904778700Z"
    }
   },
   "id": "7416888ca1166db8"
  },
  {
   "cell_type": "code",
   "execution_count": 6,
   "outputs": [],
   "source": [
    "x_train = x_train.astype(np.float32)\n",
    "y_train = y_train.astype(np.float32)\n",
    "\n",
    "x_test = x_test.astype(np.float32)\n",
    "y_test = y_test.astype(np.float32)"
   ],
   "metadata": {
    "collapsed": false,
    "ExecuteTime": {
     "end_time": "2024-02-14T07:31:11.984147200Z",
     "start_time": "2024-02-14T07:31:11.908773100Z"
    }
   },
   "id": "40739bf8a8bd0089"
  },
  {
   "cell_type": "code",
   "outputs": [
    {
     "data": {
      "text/plain": "(50000, 28, 28)"
     },
     "execution_count": 7,
     "metadata": {},
     "output_type": "execute_result"
    }
   ],
   "source": [
    "x_train.shape"
   ],
   "metadata": {
    "collapsed": false,
    "ExecuteTime": {
     "end_time": "2024-02-14T07:31:11.985147300Z",
     "start_time": "2024-02-14T07:31:11.975630200Z"
    }
   },
   "id": "7759ecd2cd89b8c5",
   "execution_count": 7
  },
  {
   "cell_type": "code",
   "execution_count": 8,
   "outputs": [],
   "source": [
    "x_train = jnp.expand_dims(x_train, axis=1)\n",
    "x_test = jnp.expand_dims(x_test, axis=1)"
   ],
   "metadata": {
    "collapsed": false,
    "ExecuteTime": {
     "end_time": "2024-02-14T07:31:12.138199300Z",
     "start_time": "2024-02-14T07:31:11.981150800Z"
    }
   },
   "id": "9c53de3838c9a454"
  },
  {
   "cell_type": "code",
   "outputs": [
    {
     "data": {
      "text/plain": "(50000, 1, 28, 28)"
     },
     "execution_count": 9,
     "metadata": {},
     "output_type": "execute_result"
    }
   ],
   "source": [
    "x_train.shape"
   ],
   "metadata": {
    "collapsed": false,
    "ExecuteTime": {
     "end_time": "2024-02-14T07:31:12.146220200Z",
     "start_time": "2024-02-14T07:31:12.141218800Z"
    }
   },
   "id": "de6b1e8807d1f7ca",
   "execution_count": 9
  },
  {
   "cell_type": "code",
   "outputs": [
    {
     "data": {
      "text/plain": "((10000,), array([2., 1., 0., 4., 1., 4., 9., 5., 9.], dtype=float32))"
     },
     "execution_count": 10,
     "metadata": {},
     "output_type": "execute_result"
    }
   ],
   "source": [
    "y_test.shape, y_test[1:10]"
   ],
   "metadata": {
    "collapsed": false,
    "ExecuteTime": {
     "end_time": "2024-02-14T07:31:12.156223200Z",
     "start_time": "2024-02-14T07:31:12.152219900Z"
    }
   },
   "id": "3c331f6b6203ed03",
   "execution_count": 10
  },
  {
   "cell_type": "code",
   "outputs": [],
   "source": [
    "y_test = jax.nn.one_hot(y_test, 10)\n",
    "y_train = jax.nn.one_hot(y_train, 10)"
   ],
   "metadata": {
    "collapsed": false,
    "ExecuteTime": {
     "end_time": "2024-02-14T07:31:12.251019400Z",
     "start_time": "2024-02-14T07:31:12.155217300Z"
    }
   },
   "id": "159c879d8dc4593c",
   "execution_count": 11
  },
  {
   "cell_type": "code",
   "outputs": [
    {
     "data": {
      "text/plain": "((50000, 10),\n Array([[0., 0., 0., 1., 0., 0., 0., 0., 0., 0.],\n        [0., 0., 0., 0., 0., 1., 0., 0., 0., 0.],\n        [0., 0., 0., 1., 0., 0., 0., 0., 0., 0.],\n        [0., 0., 0., 0., 0., 0., 1., 0., 0., 0.],\n        [0., 1., 0., 0., 0., 0., 0., 0., 0., 0.],\n        [0., 0., 0., 0., 0., 0., 0., 1., 0., 0.],\n        [0., 0., 1., 0., 0., 0., 0., 0., 0., 0.],\n        [0., 0., 0., 0., 0., 0., 0., 0., 1., 0.],\n        [0., 0., 0., 0., 0., 0., 1., 0., 0., 0.],\n        [0., 0., 0., 0., 0., 0., 0., 0., 0., 1.]], dtype=float32))"
     },
     "execution_count": 12,
     "metadata": {},
     "output_type": "execute_result"
    }
   ],
   "source": [
    "y_train.shape, y_train[10:20]"
   ],
   "metadata": {
    "collapsed": false,
    "ExecuteTime": {
     "end_time": "2024-02-14T07:31:12.304818800Z",
     "start_time": "2024-02-14T07:31:12.297826Z"
    }
   },
   "id": "d91bd431d17acc65",
   "execution_count": 12
  },
  {
   "cell_type": "code",
   "outputs": [],
   "source": [
    "in_channel = 2\n",
    "kernel_size = [2, 2]\n",
    "num_qubits = 2 * 2 * 2"
   ],
   "metadata": {
    "collapsed": false,
    "ExecuteTime": {
     "end_time": "2024-02-14T07:31:12.306820200Z",
     "start_time": "2024-02-14T07:31:12.303815300Z"
    }
   },
   "id": "6c578b9ab18a313c",
   "execution_count": 13
  },
  {
   "cell_type": "code",
   "outputs": [],
   "source": [
    "device = qml.device(\"default.qubit.jax\", wires=num_qubits)\n",
    "\n",
    "@jax.jit\n",
    "@qml.qnode(device, interface=\"jax\")\n",
    "def quantum_conv_circuit(inputs, weights):\n",
    "    AngleEmbedding(inputs, wires=range(num_qubits))\n",
    "    \n",
    "    for weight_set, cell_qubit in enumerate(range(0, num_qubits, in_channel)):\n",
    "        \n",
    "        for channel_qubit in range(0, in_channel):\n",
    "            if cell_qubit + channel_qubit != cell_qubit:\n",
    "                qml.CNOT(wires=[cell_qubit + channel_qubit, cell_qubit])\n",
    "        qml.Rot(weights[weight_set, 0], weights[weight_set, 1], weights[weight_set, 2], wires=cell_qubit)\n",
    "        \n",
    "        if cell_qubit > 0:\n",
    "            qml.CNOT(wires=[cell_qubit, 0])\n",
    "    \n",
    "    qml.Rot(weights[-1, 0], weights[-1, 1], weights[-1, 2], wires=0)\n",
    "    #RandomLayers(weights, wires=range(self.num_qubits))\n",
    "    return qml.expval(qml.PauliZ(wires=0))"
   ],
   "metadata": {
    "collapsed": false,
    "ExecuteTime": {
     "end_time": "2024-02-14T07:31:12.389092200Z",
     "start_time": "2024-02-14T07:31:12.306820200Z"
    }
   },
   "id": "65e383066fe65da",
   "execution_count": 14
  },
  {
   "cell_type": "code",
   "outputs": [],
   "source": [
    "weights = jax.random.normal(jax.random.PRNGKey(0), (sum(kernel_size) + 1, 3))\n"
   ],
   "metadata": {
    "collapsed": false,
    "ExecuteTime": {
     "end_time": "2024-02-14T07:31:12.468373900Z",
     "start_time": "2024-02-14T07:31:12.407527100Z"
    }
   },
   "id": "614ba16360b211e3",
   "execution_count": 15
  },
  {
   "cell_type": "code",
   "execution_count": 16,
   "outputs": [],
   "source": [
    "class QuantumConv2d(eqx.Module):\n",
    "    filter_size: int\n",
    "    padding_mode: str\n",
    "    weight: jax.Array\n",
    "    num_qubits: int\n",
    "    quantum_conv_circuit: list\n",
    "    kernel_size: tuple[int, int]\n",
    "    stride: tuple[int, int]\n",
    "    \n",
    "    def __init__(self, filter_size, kernel_size, stride, padding_mode, in_channel, key):\n",
    "        super().__init__()\n",
    "        self.filter_size = filter_size\n",
    "        self.kernel_size = kernel_size\n",
    "        self.stride = stride\n",
    "        self.padding_mode = padding_mode\n",
    "        \n",
    "        self.num_qubits = in_channel * kernel_size[0] * kernel_size[1]\n",
    "        self.weight = jax.random.normal(key, (filter_size, kernel_size[0] + kernel_size[1] + 1, 3))\n",
    "        \n",
    "        device = qml.device(\"default.qubit.jax\", wires=self.num_qubits)\n",
    "        @jax.jit\n",
    "        @qml.qnode(device, interface=\"jax\")\n",
    "        def quantum_conv_circuit(inputs, weights):\n",
    "            AngleEmbedding(inputs, wires=range(self.num_qubits))\n",
    "            for weight_set, cell_qubit in enumerate(range(0, self.num_qubits, in_channel)):\n",
    "\n",
    "                for channel_qubit in range(0, in_channel):\n",
    "                    if cell_qubit + channel_qubit != cell_qubit:\n",
    "                        qml.CNOT(wires=[cell_qubit + channel_qubit, cell_qubit])\n",
    "                qml.Rot(weights[weight_set, 0], weights[weight_set, 1], weights[weight_set, 2], wires=cell_qubit)\n",
    "\n",
    "                if cell_qubit > 0:\n",
    "                    qml.CNOT(wires=[cell_qubit, 0])\n",
    "\n",
    "                qml.Rot(weights[-1, 0], weights[-1, 1], weights[-1, 2], wires=0)\n",
    "\n",
    "            return qml.expval(qml.PauliZ(wires=0))\n",
    "        \n",
    "        self.quantum_conv_circuit = [quantum_conv_circuit]\n",
    "    \n",
    "    @eqx.filter_jit\n",
    "    def apply_on_patches(self, inputs):\n",
    "        inputs = jnp.transpose(inputs)\n",
    "        output = []\n",
    "        \n",
    "        for i in range(self.filter_size):\n",
    "            \n",
    "            output.append(\n",
    "                jnp.expand_dims(\n",
    "                    jax.vmap(\n",
    "                        self.quantum_conv_circuit[0], in_axes=(0, None)\n",
    "                    )(inputs, self.weight[i]),\n",
    "                    axis=0\n",
    "                )\n",
    "            )\n",
    "        \n",
    "        return  jnp.concatenate(output, axis=0)\n",
    "    \n",
    "    @eqx.filter_jit\n",
    "    def __call__(self, inputs):\n",
    "        \n",
    "        inputs = jnp.expand_dims(inputs, axis=0)\n",
    "        patches = jax.lax.conv_general_dilated_patches(inputs, self.kernel_size, self.stride, self.padding_mode)\n",
    "        patches_shape = patches.shape\n",
    "        \n",
    "        patches_flat = patches.reshape((patches_shape[0], patches_shape[1], patches_shape[2] * patches_shape[3]))\n",
    "        \n",
    "        \n",
    "        output = jax.vmap(self.apply_on_patches)(patches_flat)\n",
    "        \n",
    "        output_shape = patches_shape\n",
    "        output_shape = (self.filter_size, output_shape[2], output_shape[3])\n",
    "        \n",
    "        return output.reshape(output_shape)\n",
    "        "
   ],
   "metadata": {
    "collapsed": false,
    "ExecuteTime": {
     "end_time": "2024-02-14T07:31:12.488893400Z",
     "start_time": "2024-02-14T07:31:12.477892900Z"
    }
   },
   "id": "bbd88cf914c0cbfb"
  },
  {
   "cell_type": "code",
   "outputs": [
    {
     "data": {
      "text/plain": "(8, 26, 26)"
     },
     "execution_count": 17,
     "metadata": {},
     "output_type": "execute_result"
    }
   ],
   "source": [
    "q_conv = QuantumConv2d(8, [3, 3], [1, 1], 'VALID', 1, key)\n",
    "q_conv(jax.random.normal(key, (1, 28, 28))).shape"
   ],
   "metadata": {
    "collapsed": false,
    "ExecuteTime": {
     "end_time": "2024-02-14T07:31:24.024840700Z",
     "start_time": "2024-02-14T07:31:12.480896800Z"
    }
   },
   "id": "6ff844a800c9655",
   "execution_count": 17
  },
  {
   "cell_type": "code",
   "execution_count": 18,
   "outputs": [],
   "source": [
    "class HybrideModel(eqx.Module):\n",
    "    layers: list\n",
    "    \n",
    "    def __init__(self, key):\n",
    "        \n",
    "        key1, key2, key3, key4 = jax.random.split(key, 4)\n",
    "        self.layers = [\n",
    "            eqx.nn.Conv2d(1, 1, kernel_size=4, key=key1, stride=3),\n",
    "            jax.nn.sigmoid,\n",
    "            QuantumConv2d(filter_size=8, kernel_size=[3, 3], stride=[2, 2], padding_mode=\"VALID\", in_channel=1, key=key2),\n",
    "            eqx.nn.Conv2d(8, 12, kernel_size=2, key=key3, stride=2),\n",
    "            jax.nn.relu,\n",
    "            jnp.ravel,\n",
    "            eqx.nn.Linear(48, 10, key=key4),\n",
    "            jax.nn.softmax\n",
    "        ]\n",
    "        \n",
    "    @eqx.filter_jit\n",
    "    def __call__(self, x):\n",
    "        \n",
    "        for layer in self.layers:\n",
    "            x = layer(x)\n",
    "        return x\n",
    "    \n",
    "key, subkey = jax.random.split(key, 2)\n",
    "model = HybrideModel(subkey)"
   ],
   "metadata": {
    "collapsed": false,
    "ExecuteTime": {
     "end_time": "2024-02-14T07:31:24.599671600Z",
     "start_time": "2024-02-14T07:31:24.024840700Z"
    }
   },
   "id": "1bb1ce309577ece1"
  },
  {
   "cell_type": "code",
   "outputs": [
    {
     "data": {
      "text/plain": "Array(1., dtype=float32)"
     },
     "execution_count": 19,
     "metadata": {},
     "output_type": "execute_result"
    }
   ],
   "source": [
    "jnp.sum(model(jax.random.normal(key, (1, 28, 28))))"
   ],
   "metadata": {
    "collapsed": false,
    "ExecuteTime": {
     "end_time": "2024-02-14T07:31:35.458756300Z",
     "start_time": "2024-02-14T07:31:24.600672900Z"
    }
   },
   "id": "18eee6ec4af4a1ab",
   "execution_count": 19
  },
  {
   "cell_type": "code",
   "outputs": [],
   "source": [
    "def confusion_matrix(y_true, y_pred, num_classes):\n",
    "    \n",
    "    minlength = num_classes**2\n",
    "    return jnp.bincount(num_classes * y_true.astype(jnp.int32) + y_pred, minlength=minlength).reshape((num_classes, num_classes))\n",
    "\n",
    "\n",
    "def precision_recall_f1(y_true, y_pred, num_classes):\n",
    "    \n",
    "    cm = confusion_matrix(y_true, y_pred, num_classes)\n",
    "    true_positives = jnp.diag(cm)\n",
    "    pred_positives = jnp.sum(cm, axis=0)\n",
    "    real_positives = jnp.sum(cm, axis=1)\n",
    "\n",
    "    precision = true_positives / jnp.maximum(1.0, pred_positives)\n",
    "    recall = true_positives / jnp.maximum(1.0, real_positives)\n",
    "\n",
    "    f1_score = 2 * precision * recall / (precision + recall + 1e-7)\n",
    "    return precision, recall, f1_score\n",
    "\n",
    "def classification_report(model, x_test, y_target):\n",
    "    all_y_pred = []\n",
    "    all_y_target = []\n",
    "    for (x_batch, y_batch) in tqdm(zip(x_test, y_target), total=len(x_test_batch)):\n",
    "        y_pred = jax.vmap(model)(x_batch)\n",
    "        y_pred = jnp.argmax(y_pred, axis=-1)\n",
    "        y_batch = jnp.argmax(y_batch, axis=-1)\n",
    "        \n",
    "        all_y_pred.append(y_pred)\n",
    "        all_y_target.append(y_batch)\n",
    "    \n",
    "    all_y_pred = jnp.concatenate(all_y_pred, axis=0)\n",
    "    all_y_target = jnp.concatenate(all_y_target, axis=0)\n",
    "    \n",
    "    _, _, f1_score = precision_recall_f1(all_y_target, all_y_pred, 10)\n",
    "    return f1_score"
   ],
   "metadata": {
    "collapsed": false,
    "ExecuteTime": {
     "end_time": "2024-02-14T07:31:35.463758200Z",
     "start_time": "2024-02-14T07:31:35.458756300Z"
    }
   },
   "id": "f6d892ca595fccf3",
   "execution_count": 20
  },
  {
   "cell_type": "code",
   "execution_count": 21,
   "outputs": [],
   "source": [
    "@eqx.filter_jit\n",
    "def categorical_crossentropy(model, inputs, targets):\n",
    "    \n",
    "    y_pred = jax.vmap(model)(inputs)\n",
    "    \n",
    "    y_pred = jnp.clip(y_pred, 1e-7, 1 - 1e-7)\n",
    "    \n",
    "    loss = -jnp.sum(targets * jnp.log(y_pred), axis=-1)\n",
    "    \n",
    "    return jnp.mean(loss), y_pred\n",
    "\n",
    "@eqx.filter_jit\n",
    "def categorical_accuracy(y_true, y_pred):\n",
    "    true_labels = jnp.argmax(y_true, axis=-1)\n",
    "    predicted_labels = jnp.argmax(y_pred, axis=-1)\n",
    "\n",
    "    # Comparer les indices pour calculer la précision\n",
    "    return jnp.mean(true_labels == predicted_labels)\n",
    "    \n",
    "\n",
    "@eqx.filter_jit\n",
    "def train_step(model, opt_state, inputs, target):\n",
    "\n",
    "    (loss_value, y_pred), grads = eqx.filter_value_and_grad(categorical_crossentropy, has_aux=True)(model, inputs, target)\n",
    "    \n",
    "    updates, opt_state = optim.update(grads, opt_state, model)\n",
    "    model = eqx.apply_updates(model, updates)\n",
    "    \n",
    "    accuracy = categorical_accuracy(target, y_pred)\n",
    "    \n",
    "    return model, opt_state, loss_value, accuracy\n",
    "    \n",
    "\n",
    "@eqx.filter_jit\n",
    "def test_step(model, inputs, target):\n",
    "    loss_value, y_pred = categorical_crossentropy(model, inputs, target)\n",
    "    \n",
    "    accuracy = categorical_accuracy(target, y_pred)\n",
    "    \n",
    "    return loss_value, accuracy\n",
    "    \n",
    "    "
   ],
   "metadata": {
    "collapsed": false,
    "ExecuteTime": {
     "end_time": "2024-02-14T07:31:35.467753Z",
     "start_time": "2024-02-14T07:31:35.463758200Z"
    }
   },
   "id": "32027550e935df04"
  },
  {
   "cell_type": "code",
   "execution_count": 22,
   "outputs": [],
   "source": [
    "optim = optax.adamax(0.002)\n",
    "opt_state = optim.init(eqx.filter(model, eqx.is_array))\n",
    "epochs = 20\n",
    "batch_size = 16"
   ],
   "metadata": {
    "collapsed": false,
    "ExecuteTime": {
     "end_time": "2024-02-14T07:31:35.661975300Z",
     "start_time": "2024-02-14T07:31:35.474753900Z"
    }
   },
   "id": "40935ad5d17ba8cc"
  },
  {
   "cell_type": "code",
   "outputs": [],
   "source": [
    "def batch(array, batch_size):\n",
    "    return np.array_split(array, np.ceil(len(array) / batch_size))"
   ],
   "metadata": {
    "collapsed": false,
    "ExecuteTime": {
     "end_time": "2024-02-14T07:31:35.667487900Z",
     "start_time": "2024-02-14T07:31:35.664486700Z"
    }
   },
   "id": "94de639529611d58",
   "execution_count": 23
  },
  {
   "cell_type": "code",
   "execution_count": 24,
   "outputs": [],
   "source": [
    "x_train_batch = batch(x_train, batch_size=batch_size)\n",
    "y_train_batch = batch(y_train, batch_size=batch_size)\n",
    "\n",
    "x_test_batch = batch(x_test, batch_size=batch_size)\n",
    "y_test_batch = batch(y_test, batch_size=batch_size)"
   ],
   "metadata": {
    "collapsed": false,
    "ExecuteTime": {
     "end_time": "2024-02-14T07:31:39.315120Z",
     "start_time": "2024-02-14T07:31:35.667487900Z"
    }
   },
   "id": "68b0bef5aaf0e4f"
  },
  {
   "cell_type": "code",
   "outputs": [
    {
     "data": {
      "text/plain": "(16, 1, 28, 28)"
     },
     "execution_count": 25,
     "metadata": {},
     "output_type": "execute_result"
    }
   ],
   "source": [
    "x_train_batch[1].shape"
   ],
   "metadata": {
    "collapsed": false,
    "ExecuteTime": {
     "end_time": "2024-02-14T07:31:39.321119900Z",
     "start_time": "2024-02-14T07:31:39.318117700Z"
    }
   },
   "id": "d854dc3001330644",
   "execution_count": 25
  },
  {
   "cell_type": "code",
   "execution_count": 26,
   "outputs": [
    {
     "name": "stdout",
     "output_type": "stream",
     "text": [
      "Starting epoch: 1\n"
     ]
    },
    {
     "name": "stderr",
     "output_type": "stream",
     "text": [
      "100%|██████████| 3125/3125 [03:30<00:00, 14.87it/s]\n"
     ]
    },
    {
     "name": "stdout",
     "output_type": "stream",
     "text": [
      "Train Loss: 1.2256098985671997 Train Accuracy: 0.6014000177383423\n"
     ]
    },
    {
     "name": "stderr",
     "output_type": "stream",
     "text": [
      "100%|██████████| 625/625 [00:22<00:00, 28.34it/s]\n"
     ]
    },
    {
     "name": "stdout",
     "output_type": "stream",
     "text": [
      "Test Loss: 0.8231638669967651 Test Accuracy 0.7322999835014343\n",
      "Starting epoch: 2\n"
     ]
    },
    {
     "name": "stderr",
     "output_type": "stream",
     "text": [
      "100%|██████████| 3125/3125 [03:08<00:00, 16.56it/s]\n"
     ]
    },
    {
     "name": "stdout",
     "output_type": "stream",
     "text": [
      "Train Loss: 0.7510449886322021 Train Accuracy: 0.754360020160675\n"
     ]
    },
    {
     "name": "stderr",
     "output_type": "stream",
     "text": [
      "100%|██████████| 625/625 [00:11<00:00, 55.64it/s]\n"
     ]
    },
    {
     "name": "stdout",
     "output_type": "stream",
     "text": [
      "Test Loss: 0.6467164754867554 Test Accuracy 0.795199990272522\n",
      "Starting epoch: 3\n"
     ]
    },
    {
     "name": "stderr",
     "output_type": "stream",
     "text": [
      "100%|██████████| 3125/3125 [03:09<00:00, 16.49it/s]\n"
     ]
    },
    {
     "name": "stdout",
     "output_type": "stream",
     "text": [
      "Train Loss: 0.6319004893302917 Train Accuracy: 0.7966399788856506\n"
     ]
    },
    {
     "name": "stderr",
     "output_type": "stream",
     "text": [
      "100%|██████████| 625/625 [00:11<00:00, 55.57it/s]\n"
     ]
    },
    {
     "name": "stdout",
     "output_type": "stream",
     "text": [
      "Test Loss: 0.5747763514518738 Test Accuracy 0.8210999965667725\n",
      "Starting epoch: 4\n"
     ]
    },
    {
     "name": "stderr",
     "output_type": "stream",
     "text": [
      "100%|██████████| 3125/3125 [03:07<00:00, 16.64it/s]\n"
     ]
    },
    {
     "name": "stdout",
     "output_type": "stream",
     "text": [
      "Train Loss: 0.5539270043373108 Train Accuracy: 0.8253600001335144\n"
     ]
    },
    {
     "name": "stderr",
     "output_type": "stream",
     "text": [
      "100%|██████████| 625/625 [00:11<00:00, 55.69it/s]\n"
     ]
    },
    {
     "name": "stdout",
     "output_type": "stream",
     "text": [
      "Test Loss: 0.5255019664764404 Test Accuracy 0.8363999724388123\n",
      "Starting epoch: 5\n"
     ]
    },
    {
     "name": "stderr",
     "output_type": "stream",
     "text": [
      "100%|██████████| 3125/3125 [03:07<00:00, 16.64it/s]\n"
     ]
    },
    {
     "name": "stdout",
     "output_type": "stream",
     "text": [
      "Train Loss: 0.5005863904953003 Train Accuracy: 0.8426600098609924\n"
     ]
    },
    {
     "name": "stderr",
     "output_type": "stream",
     "text": [
      "100%|██████████| 625/625 [00:11<00:00, 55.57it/s]\n"
     ]
    },
    {
     "name": "stdout",
     "output_type": "stream",
     "text": [
      "Test Loss: 0.49373021721839905 Test Accuracy 0.8463000059127808\n",
      "Starting epoch: 6\n"
     ]
    },
    {
     "name": "stderr",
     "output_type": "stream",
     "text": [
      "100%|██████████| 3125/3125 [03:07<00:00, 16.64it/s]\n"
     ]
    },
    {
     "name": "stdout",
     "output_type": "stream",
     "text": [
      "Train Loss: 0.45932984352111816 Train Accuracy: 0.8574600219726562\n"
     ]
    },
    {
     "name": "stderr",
     "output_type": "stream",
     "text": [
      "100%|██████████| 625/625 [00:11<00:00, 55.57it/s]\n",
      " 22%|██▏       | 691/3125 [00:41<02:26, 16.58it/s]"
     ]
    },
    {
     "name": "stdout",
     "output_type": "stream",
     "text": [
      "Test Loss: 0.4577895998954773 Test Accuracy 0.8593999743461609\n",
      "Starting epoch: 7\n"
     ]
    },
    {
     "name": "stderr",
     "output_type": "stream",
     "text": [
      "100%|██████████| 3125/3125 [03:08<00:00, 16.60it/s]\n"
     ]
    },
    {
     "name": "stdout",
     "output_type": "stream",
     "text": [
      "Train Loss: 0.42356076836586 Train Accuracy: 0.8699399828910828\n"
     ]
    },
    {
     "name": "stderr",
     "output_type": "stream",
     "text": [
      "100%|██████████| 625/625 [00:11<00:00, 55.66it/s]\n"
     ]
    },
    {
     "name": "stdout",
     "output_type": "stream",
     "text": [
      "Test Loss: 0.4960418939590454 Test Accuracy 0.8432000279426575\n",
      "Starting epoch: 8\n"
     ]
    },
    {
     "name": "stderr",
     "output_type": "stream",
     "text": [
      "100%|██████████| 3125/3125 [02:58<00:00, 17.53it/s]\n"
     ]
    },
    {
     "name": "stdout",
     "output_type": "stream",
     "text": [
      "Train Loss: 0.39302897453308105 Train Accuracy: 0.8804000020027161\n"
     ]
    },
    {
     "name": "stderr",
     "output_type": "stream",
     "text": [
      "100%|██████████| 625/625 [00:11<00:00, 55.62it/s]\n"
     ]
    },
    {
     "name": "stdout",
     "output_type": "stream",
     "text": [
      "Test Loss: 0.4871326684951782 Test Accuracy 0.847000002861023\n",
      "Starting epoch: 9\n"
     ]
    },
    {
     "name": "stderr",
     "output_type": "stream",
     "text": [
      "100%|██████████| 3125/3125 [03:07<00:00, 16.64it/s]\n"
     ]
    },
    {
     "name": "stdout",
     "output_type": "stream",
     "text": [
      "Train Loss: 0.3680950701236725 Train Accuracy: 0.8892999887466431\n"
     ]
    },
    {
     "name": "stderr",
     "output_type": "stream",
     "text": [
      "100%|██████████| 625/625 [00:11<00:00, 55.64it/s]\n"
     ]
    },
    {
     "name": "stdout",
     "output_type": "stream",
     "text": [
      "Test Loss: 0.4578072130680084 Test Accuracy 0.8578000068664551\n",
      "Starting epoch: 10\n"
     ]
    },
    {
     "name": "stderr",
     "output_type": "stream",
     "text": [
      "100%|██████████| 3125/3125 [03:07<00:00, 16.65it/s]\n"
     ]
    },
    {
     "name": "stdout",
     "output_type": "stream",
     "text": [
      "Train Loss: 0.3492312431335449 Train Accuracy: 0.894760012626648\n"
     ]
    },
    {
     "name": "stderr",
     "output_type": "stream",
     "text": [
      "100%|██████████| 625/625 [00:11<00:00, 55.70it/s]\n"
     ]
    },
    {
     "name": "stdout",
     "output_type": "stream",
     "text": [
      "Test Loss: 0.4318515658378601 Test Accuracy 0.8661999702453613\n",
      "Starting epoch: 11\n"
     ]
    },
    {
     "name": "stderr",
     "output_type": "stream",
     "text": [
      "100%|██████████| 3125/3125 [03:07<00:00, 16.65it/s]\n"
     ]
    },
    {
     "name": "stdout",
     "output_type": "stream",
     "text": [
      "Train Loss: 0.33300116658210754 Train Accuracy: 0.900879979133606\n"
     ]
    },
    {
     "name": "stderr",
     "output_type": "stream",
     "text": [
      "100%|██████████| 625/625 [00:11<00:00, 55.66it/s]\n"
     ]
    },
    {
     "name": "stdout",
     "output_type": "stream",
     "text": [
      "Test Loss: 0.4008796513080597 Test Accuracy 0.8780999779701233\n",
      "Starting epoch: 12\n"
     ]
    },
    {
     "name": "stderr",
     "output_type": "stream",
     "text": [
      "100%|██████████| 3125/3125 [03:09<00:00, 16.48it/s]\n"
     ]
    },
    {
     "name": "stdout",
     "output_type": "stream",
     "text": [
      "Train Loss: 0.3191884160041809 Train Accuracy: 0.9043599963188171\n"
     ]
    },
    {
     "name": "stderr",
     "output_type": "stream",
     "text": [
      "100%|██████████| 625/625 [00:11<00:00, 55.40it/s]\n"
     ]
    },
    {
     "name": "stdout",
     "output_type": "stream",
     "text": [
      "Test Loss: 0.3902710974216461 Test Accuracy 0.8788999915122986\n",
      "Starting epoch: 13\n"
     ]
    },
    {
     "name": "stderr",
     "output_type": "stream",
     "text": [
      "100%|██████████| 3125/3125 [03:12<00:00, 16.23it/s]\n"
     ]
    },
    {
     "name": "stdout",
     "output_type": "stream",
     "text": [
      "Train Loss: 0.306997686624527 Train Accuracy: 0.9081000089645386\n"
     ]
    },
    {
     "name": "stderr",
     "output_type": "stream",
     "text": [
      "100%|██████████| 625/625 [00:11<00:00, 53.92it/s]\n"
     ]
    },
    {
     "name": "stdout",
     "output_type": "stream",
     "text": [
      "Test Loss: 0.3510338366031647 Test Accuracy 0.8931000232696533\n",
      "Starting epoch: 14\n"
     ]
    },
    {
     "name": "stderr",
     "output_type": "stream",
     "text": [
      "100%|██████████| 3125/3125 [03:10<00:00, 16.43it/s]\n"
     ]
    },
    {
     "name": "stdout",
     "output_type": "stream",
     "text": [
      "Train Loss: 0.2958995997905731 Train Accuracy: 0.9111599922180176\n"
     ]
    },
    {
     "name": "stderr",
     "output_type": "stream",
     "text": [
      "100%|██████████| 625/625 [00:11<00:00, 55.56it/s]\n"
     ]
    },
    {
     "name": "stdout",
     "output_type": "stream",
     "text": [
      "Test Loss: 0.32528382539749146 Test Accuracy 0.9013000130653381\n",
      "Starting epoch: 15\n"
     ]
    },
    {
     "name": "stderr",
     "output_type": "stream",
     "text": [
      "100%|██████████| 3125/3125 [03:11<00:00, 16.36it/s]\n"
     ]
    },
    {
     "name": "stdout",
     "output_type": "stream",
     "text": [
      "Train Loss: 0.2860795855522156 Train Accuracy: 0.914139986038208\n"
     ]
    },
    {
     "name": "stderr",
     "output_type": "stream",
     "text": [
      "100%|██████████| 625/625 [00:11<00:00, 54.46it/s]\n"
     ]
    },
    {
     "name": "stdout",
     "output_type": "stream",
     "text": [
      "Test Loss: 0.311206579208374 Test Accuracy 0.9075999855995178\n",
      "Starting epoch: 16\n"
     ]
    },
    {
     "name": "stderr",
     "output_type": "stream",
     "text": [
      "100%|██████████| 3125/3125 [03:09<00:00, 16.45it/s]\n"
     ]
    },
    {
     "name": "stdout",
     "output_type": "stream",
     "text": [
      "Train Loss: 0.27738162875175476 Train Accuracy: 0.9166799783706665\n"
     ]
    },
    {
     "name": "stderr",
     "output_type": "stream",
     "text": [
      "100%|██████████| 625/625 [00:11<00:00, 55.58it/s]\n"
     ]
    },
    {
     "name": "stdout",
     "output_type": "stream",
     "text": [
      "Test Loss: 0.29937076568603516 Test Accuracy 0.9110999703407288\n",
      "Starting epoch: 17\n"
     ]
    },
    {
     "name": "stderr",
     "output_type": "stream",
     "text": [
      "100%|██████████| 3125/3125 [03:07<00:00, 16.65it/s]\n"
     ]
    },
    {
     "name": "stdout",
     "output_type": "stream",
     "text": [
      "Train Loss: 0.2698746621608734 Train Accuracy: 0.9187999963760376\n"
     ]
    },
    {
     "name": "stderr",
     "output_type": "stream",
     "text": [
      "100%|██████████| 625/625 [00:11<00:00, 55.65it/s]\n"
     ]
    },
    {
     "name": "stdout",
     "output_type": "stream",
     "text": [
      "Test Loss: 0.28343260288238525 Test Accuracy 0.9150000214576721\n",
      "Starting epoch: 18\n"
     ]
    },
    {
     "name": "stderr",
     "output_type": "stream",
     "text": [
      "100%|██████████| 3125/3125 [03:07<00:00, 16.65it/s]\n"
     ]
    },
    {
     "name": "stdout",
     "output_type": "stream",
     "text": [
      "Train Loss: 0.26254144310951233 Train Accuracy: 0.9205800294876099\n"
     ]
    },
    {
     "name": "stderr",
     "output_type": "stream",
     "text": [
      "100%|██████████| 625/625 [00:11<00:00, 55.65it/s]\n"
     ]
    },
    {
     "name": "stdout",
     "output_type": "stream",
     "text": [
      "Test Loss: 0.27492207288742065 Test Accuracy 0.9168999791145325\n",
      "Starting epoch: 19\n"
     ]
    },
    {
     "name": "stderr",
     "output_type": "stream",
     "text": [
      "100%|██████████| 3125/3125 [03:07<00:00, 16.65it/s]\n"
     ]
    },
    {
     "name": "stdout",
     "output_type": "stream",
     "text": [
      "Train Loss: 0.25679221749305725 Train Accuracy: 0.9225199818611145\n"
     ]
    },
    {
     "name": "stderr",
     "output_type": "stream",
     "text": [
      "100%|██████████| 625/625 [00:11<00:00, 55.62it/s]\n"
     ]
    },
    {
     "name": "stdout",
     "output_type": "stream",
     "text": [
      "Test Loss: 0.26938799023628235 Test Accuracy 0.9182000160217285\n",
      "Starting epoch: 20\n"
     ]
    },
    {
     "name": "stderr",
     "output_type": "stream",
     "text": [
      "100%|██████████| 3125/3125 [03:07<00:00, 16.65it/s]\n"
     ]
    },
    {
     "name": "stdout",
     "output_type": "stream",
     "text": [
      "Train Loss: 0.2514718770980835 Train Accuracy: 0.9239199757575989\n"
     ]
    },
    {
     "name": "stderr",
     "output_type": "stream",
     "text": [
      "100%|██████████| 625/625 [00:11<00:00, 55.57it/s]\n"
     ]
    },
    {
     "name": "stdout",
     "output_type": "stream",
     "text": [
      "Test Loss: 0.2620673179626465 Test Accuracy 0.9204999804496765\n"
     ]
    }
   ],
   "source": [
    "for step in range(epochs):\n",
    "    accuracys = deque()\n",
    "    losss = deque()\n",
    "    print(f\"Starting epoch: {step + 1}\")\n",
    "    \n",
    "    for (x_batch, y_batch) in tqdm(zip(x_train_batch, y_train_batch), total=len(x_train_batch)):\n",
    "        model, opt_state, loss_value, accuracy = train_step(model, opt_state, x_batch, y_batch)\n",
    "        \n",
    "        accuracys.append(accuracy)\n",
    "        losss.append(loss_value)\n",
    "    \n",
    "    print(f\"Train Loss: {np.mean(losss)} Train Accuracy: {np.mean(accuracys)}\")\n",
    "    \n",
    "    test_accuracys = deque()\n",
    "    test_losss = deque()\n",
    "    for (x_batch, y_batch) in tqdm(zip(x_test_batch, y_test_batch), total=len(x_test_batch)):\n",
    "        loss_value, accuracy = test_step(model, x_batch, y_batch)\n",
    "        \n",
    "        test_accuracys.append(accuracy)\n",
    "        test_losss.append(loss_value)\n",
    "    \n",
    "    print(f\"Test Loss: {np.mean(test_losss)} Test Accuracy {np.mean(test_accuracys)}\")"
   ],
   "metadata": {
    "collapsed": false,
    "ExecuteTime": {
     "end_time": "2024-02-14T08:39:22.497232Z",
     "start_time": "2024-02-14T07:31:39.323117500Z"
    }
   },
   "id": "d926d15dcca96cf6"
  },
  {
   "cell_type": "code",
   "outputs": [
    {
     "name": "stderr",
     "output_type": "stream",
     "text": [
      "100%|██████████| 625/625 [00:21<00:00, 29.22it/s]\n"
     ]
    },
    {
     "data": {
      "text/plain": "[Array(0.9577177, dtype=float32, weak_type=True),\n Array(0.9669565, dtype=float32, weak_type=True),\n Array(0.9226982, dtype=float32, weak_type=True),\n Array(0.91454273, dtype=float32, weak_type=True),\n Array(0.9009585, dtype=float32, weak_type=True),\n Array(0.9189485, dtype=float32, weak_type=True),\n Array(0.94830287, dtype=float32, weak_type=True),\n Array(0.91096526, dtype=float32, weak_type=True),\n Array(0.87864333, dtype=float32, weak_type=True),\n Array(0.87845033, dtype=float32, weak_type=True)]"
     },
     "execution_count": 27,
     "metadata": {},
     "output_type": "execute_result"
    }
   ],
   "source": [
    "list(classification_report(model, x_test_batch, y_test_batch))"
   ],
   "metadata": {
    "collapsed": false,
    "ExecuteTime": {
     "end_time": "2024-02-14T08:39:44.807198700Z",
     "start_time": "2024-02-14T08:39:22.488190800Z"
    }
   },
   "id": "d2b973c1339ef465",
   "execution_count": 27
  },
  {
   "cell_type": "code",
   "outputs": [],
   "source": [
    "img_array, label = np.array(x_test[0]), np.array(y_test[0])\n",
    "img_array = img_array.astype(np.int8)\n",
    "img_array = np.squeeze(img_array)"
   ],
   "metadata": {
    "collapsed": false,
    "ExecuteTime": {
     "end_time": "2024-02-14T08:39:44.891610700Z",
     "start_time": "2024-02-14T08:39:44.798200400Z"
    }
   },
   "id": "fac42af2585f202",
   "execution_count": 28
  },
  {
   "cell_type": "code",
   "outputs": [
    {
     "data": {
      "text/plain": "<PIL.Image.Image image mode=L size=28x28>",
      "image/png": "[encoded data removed]",
      "image/jpeg": "[encoded data removed]"
     },
     "execution_count": 29,
     "metadata": {},
     "output_type": "execute_result"
    }
   ],
   "source": [
    "Image.fromarray(img_array, mode=\"L\")"
   ],
   "metadata": {
    "collapsed": false,
    "ExecuteTime": {
     "end_time": "2024-02-14T08:39:44.900612100Z",
     "start_time": "2024-02-14T08:39:44.893611600Z"
    }
   },
   "id": "fe50064f5d862a06",
   "execution_count": 29
  },
  {
   "cell_type": "code",
   "outputs": [
    {
     "data": {
      "text/plain": "7"
     },
     "execution_count": 30,
     "metadata": {},
     "output_type": "execute_result"
    }
   ],
   "source": [
    "np.argmax(label)"
   ],
   "metadata": {
    "collapsed": false,
    "ExecuteTime": {
     "end_time": "2024-02-14T08:39:44.942638Z",
     "start_time": "2024-02-14T08:39:44.899610700Z"
    }
   },
   "id": "6da9a2ae70d9e5fb",
   "execution_count": 30
  },
  {
   "cell_type": "code",
   "outputs": [],
   "source": [],
   "metadata": {
    "collapsed": false,
    "ExecuteTime": {
     "end_time": "2024-02-14T08:39:44.990182700Z",
     "start_time": "2024-02-14T08:39:44.937640Z"
    }
   },
   "id": "aa9c17196aab2c8f",
   "execution_count": 30
  }
 ],
 "metadata": {
  "kernelspec": {
   "display_name": "Python 3",
   "language": "python",
   "name": "python3"
  },
  "language_info": {
   "codemirror_mode": {
    "name": "ipython",
    "version": 2
   },
   "file_extension": ".py",
   "mimetype": "text/x-python",
   "name": "python",
   "nbconvert_exporter": "python",
   "pygments_lexer": "ipython2",
   "version": "2.7.6"
  }
 },
 "nbformat": 4,
 "nbformat_minor": 5
}

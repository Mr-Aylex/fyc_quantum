{
 "cells": [
  {
   "cell_type": "code",
   "execution_count": 1,
   "id": "initial_id",
   "metadata": {
    "collapsed": true,
    "ExecuteTime": {
     "end_time": "2023-12-27T19:57:45.899853300Z",
     "start_time": "2023-12-27T19:57:43.300922Z"
    }
   },
   "outputs": [],
   "source": [
    "import os\n",
    "#os.environ[\"JAX_PLATFORM_NAME\"] = \"cpu\"\n",
    "import numpy as np\n",
    "from sklearn import datasets\n",
    "import matplotlib.pyplot as plt\n",
    "from pennylane import AngleEmbedding, StronglyEntanglingLayers, RandomLayers\n",
    "import pennylane as qml\n",
    "import os\n",
    "import jax\n",
    "from jax import numpy as jnp\n",
    "import equinox as eqx\n",
    "import time\n",
    "from tqdm import tqdm\n",
    "import optax\n",
    "import tensorflow as tf\n",
    "from jaxtyping import Array, Float, PyTree\n",
    "from collections import deque"
   ]
  },
  {
   "cell_type": "code",
   "execution_count": 2,
   "outputs": [
    {
     "name": "stdout",
     "output_type": "stream",
     "text": [
      "[cuda(id=0)]\n"
     ]
    }
   ],
   "source": [
    "print(jax.devices())"
   ],
   "metadata": {
    "collapsed": false,
    "ExecuteTime": {
     "end_time": "2023-12-27T19:57:46.303956500Z",
     "start_time": "2023-12-27T19:57:45.902855600Z"
    }
   },
   "id": "3f300c83b09e535"
  },
  {
   "cell_type": "code",
   "execution_count": 3,
   "outputs": [],
   "source": [
    "key = jax.random.PRNGKey(0)"
   ],
   "metadata": {
    "collapsed": false,
    "ExecuteTime": {
     "end_time": "2023-12-27T19:57:46.748081100Z",
     "start_time": "2023-12-27T19:57:46.302450700Z"
    }
   },
   "id": "39c54f30ec8db92e"
  },
  {
   "cell_type": "code",
   "execution_count": 4,
   "outputs": [],
   "source": [
    "(x_train, y_train), (x_test, y_test) = tf.keras.datasets.mnist.load_data()"
   ],
   "metadata": {
    "collapsed": false,
    "ExecuteTime": {
     "end_time": "2023-12-27T19:57:46.882961900Z",
     "start_time": "2023-12-27T19:57:46.750082100Z"
    }
   },
   "id": "d65e395ea05d480c"
  },
  {
   "cell_type": "code",
   "execution_count": 5,
   "outputs": [],
   "source": [
    "x_train = x_train[:50_000]\n",
    "y_train = y_train[:50_000]\n",
    "\n",
    "x_test = x_test[:10_000]\n",
    "y_test = y_test[:10_000]"
   ],
   "metadata": {
    "collapsed": false,
    "ExecuteTime": {
     "end_time": "2023-12-27T19:57:46.889275600Z",
     "start_time": "2023-12-27T19:57:46.883959300Z"
    }
   },
   "id": "7416888ca1166db8"
  },
  {
   "cell_type": "code",
   "execution_count": 6,
   "outputs": [],
   "source": [
    "y_test = y_test.astype(np.float32)\n",
    "y_train = y_train.astype(np.float32)\n",
    "\n",
    "x_train = x_train.astype(np.float32)\n",
    "x_test = x_test.astype(np.float32)"
   ],
   "metadata": {
    "collapsed": false,
    "ExecuteTime": {
     "end_time": "2023-12-27T19:57:46.937253500Z",
     "start_time": "2023-12-27T19:57:46.888275500Z"
    }
   },
   "id": "bf7de7753308ea8a"
  },
  {
   "cell_type": "code",
   "execution_count": 7,
   "outputs": [],
   "source": [
    "x_train = jnp.expand_dims(x_train, axis=-1)\n",
    "x_test = jnp.expand_dims(x_test, axis=-1)"
   ],
   "metadata": {
    "collapsed": false,
    "ExecuteTime": {
     "end_time": "2023-12-27T19:57:47.067971900Z",
     "start_time": "2023-12-27T19:57:46.936249700Z"
    }
   },
   "id": "40739bf8a8bd0089"
  },
  {
   "cell_type": "code",
   "execution_count": 8,
   "outputs": [],
   "source": [
    "x_train = np.transpose(x_train, (0, 3, 1, 2))\n",
    "x_test = np.transpose(x_test, (0, 3, 1, 2))"
   ],
   "metadata": {
    "collapsed": false,
    "ExecuteTime": {
     "end_time": "2023-12-27T19:57:47.109372400Z",
     "start_time": "2023-12-27T19:57:47.075019600Z"
    }
   },
   "id": "215de8683db4bb3e"
  },
  {
   "cell_type": "code",
   "execution_count": 9,
   "outputs": [],
   "source": [
    "y_train = jax.nn.one_hot(y_train, 10)\n",
    "y_test = jax.nn.one_hot(y_test, 10)"
   ],
   "metadata": {
    "collapsed": false,
    "ExecuteTime": {
     "end_time": "2023-12-27T19:57:47.156982800Z",
     "start_time": "2023-12-27T19:57:47.108366300Z"
    }
   },
   "id": "9c53de3838c9a454"
  },
  {
   "cell_type": "code",
   "execution_count": 10,
   "outputs": [],
   "source": [
    "class QuantumConv2dLayer(eqx.Module):\n",
    "    filter_size: int\n",
    "    circuit_length: int\n",
    "    padding_mode: str\n",
    "    weight: jax.Array\n",
    "    num_qubits: int\n",
    "    quantum_conv_circuit: list\n",
    "    kernel_size: tuple[int, int]\n",
    "    stride: tuple[int, int]\n",
    "    \n",
    "    def __init__(self, filter_size, circuit_length, kernel_size, stride, padding_mode, in_channel):\n",
    "        super().__init__()\n",
    "        self.filter_size = filter_size\n",
    "        self.circuit_length = circuit_length\n",
    "        self.padding_mode = padding_mode\n",
    "        \n",
    "        self.num_qubits = in_channel * kernel_size[0] * kernel_size[1]\n",
    "        self.weight = jax.random.normal(jax.random.PRNGKey(0), (filter_size, circuit_length, self.num_qubits))\n",
    "        self.kernel_size = kernel_size\n",
    "        self.stride = stride\n",
    "\n",
    "        device = qml.device(\"default.qubit.jax\", wires=self.num_qubits)\n",
    "        @jax.jit\n",
    "        @qml.qnode(device, interface=\"jax\")\n",
    "        def quantum_conv_circuit(inputs, weights):\n",
    "            AngleEmbedding(inputs, wires=range(self.num_qubits))\n",
    "            RandomLayers(weights, wires=range(self.num_qubits))\n",
    "            \n",
    "            return qml.expval(qml.PauliZ(wires=0))\n",
    "\n",
    "        self.quantum_conv_circuit = [quantum_conv_circuit]\n",
    "        \n",
    "    @eqx.filter_jit\n",
    "    def apply_on_batch(self, inputs):\n",
    "        # Apply the quantum circuit to each patch\n",
    "        inputs = jnp.transpose(inputs)\n",
    "        outputs = []\n",
    "                \n",
    "        for i in range(self.filter_size):\n",
    "            \n",
    "            outputs.append(\n",
    "                jnp.expand_dims(\n",
    "                    jax.vmap(\n",
    "                        self.quantum_conv_circuit[0], in_axes=(0, None)\n",
    "                    )(inputs, self.weight[i]),\n",
    "                    axis=0\n",
    "                )\n",
    "            )\n",
    "        return jnp.concatenate(outputs, axis=0)\n",
    "    \n",
    "    @eqx.filter_jit\n",
    "    def __call__(self, inputs):\n",
    "        # Extract patches\n",
    "        inputs = jnp.expand_dims(inputs, axis=0)\n",
    "        patches = jax.lax.conv_general_dilated_patches(inputs, self.kernel_size, self.stride, self.padding_mode)\n",
    "        patches_shape = patches.shape\n",
    "        patches_flat = patches.reshape(patches_shape[0], patches_shape[1], patches_shape[2] * patches_shape[3])\n",
    "\n",
    "        # Apply the quantum circuit on each patch\n",
    "        output = jax.vmap(self.apply_on_batch)(patches_flat)\n",
    "        output_shape = patches_shape\n",
    "        \n",
    "        output_shape = (self.filter_size, output_shape[2], output_shape[3])        \n",
    "        # Reshape the output\n",
    "        return output.reshape(output_shape)\n",
    "\n",
    "\n",
    "#quantum_layer = QuantumConv2dLayer(filter_size=2, circuit_length=3, kernel_size=(2, 2), stride=(2, 2), padding_mode='SAME', in_channel=1)"
   ],
   "metadata": {
    "collapsed": false,
    "ExecuteTime": {
     "end_time": "2023-12-27T19:57:47.168188300Z",
     "start_time": "2023-12-27T19:57:47.162983200Z"
    }
   },
   "id": "bbd88cf914c0cbfb"
  },
  {
   "cell_type": "code",
   "execution_count": 11,
   "outputs": [],
   "source": [
    "#quantum_layer((np.random.random((1, 28, 28))))"
   ],
   "metadata": {
    "collapsed": false,
    "ExecuteTime": {
     "end_time": "2023-12-27T19:57:47.172706900Z",
     "start_time": "2023-12-27T19:57:47.166187700Z"
    }
   },
   "id": "b9c1c23e1cbed2e0"
  },
  {
   "cell_type": "code",
   "execution_count": 12,
   "outputs": [],
   "source": [
    "class HybrideModel(eqx.Module):\n",
    "    layers: list\n",
    "    \n",
    "    def __init__(self, key):\n",
    "        key1, key2, key3, key4 = jax.random.split(key, 4)\n",
    "        self.layers = [\n",
    "            eqx.nn.Conv2d(1, 1, kernel_size=4, key=key1, stride=3),\n",
    "            jax.nn.sigmoid,\n",
    "            QuantumConv2dLayer(filter_size=8, circuit_length=1, kernel_size=(3, 3), stride=(2, 2), padding_mode='VALID', in_channel=1),\n",
    "            eqx.nn.Conv2d(8, 12, kernel_size=2, key=key3, stride=2),\n",
    "            jax.nn.relu,\n",
    "            jnp.ravel,\n",
    "            eqx.nn.Linear(48, 10, key=key3),\n",
    "            jax.nn.softmax\n",
    "        ]\n",
    "        \n",
    "    @eqx.filter_jit\n",
    "    def __call__(self, x):\n",
    "        \n",
    "        for layer in self.layers:\n",
    "            x = layer(x)\n",
    "        return x\n",
    "    \n",
    "key, subkey = jax.random.split(key, 2)\n",
    "model = HybrideModel(subkey)"
   ],
   "metadata": {
    "collapsed": false,
    "ExecuteTime": {
     "end_time": "2023-12-27T19:57:47.625042700Z",
     "start_time": "2023-12-27T19:57:47.172706900Z"
    }
   },
   "id": "1bb1ce309577ece1"
  },
  {
   "cell_type": "code",
   "execution_count": 13,
   "outputs": [],
   "source": [
    "@eqx.filter_jit\n",
    "def categorical_crossentropy(model, inputs, targets):\n",
    "    \n",
    "    y_pred = jax.vmap(model)(inputs)\n",
    "    \n",
    "    y_pred = jnp.clip(y_pred, 1e-7, 1 - 1e-7)\n",
    "    \n",
    "    loss = -jnp.sum(targets * jnp.log(y_pred), axis=-1)\n",
    "    \n",
    "    return jnp.mean(loss), y_pred\n",
    "\n",
    "@eqx.filter_jit\n",
    "def categorical_accuracy(y_true, y_pred):\n",
    "    true_labels = jnp.argmax(y_true, axis=-1)\n",
    "    predicted_labels = jnp.argmax(y_pred, axis=-1)\n",
    "\n",
    "    # Comparer les indices pour calculer la précision\n",
    "    return jnp.mean(true_labels == predicted_labels)\n",
    "    \n",
    "\n",
    "@eqx.filter_jit\n",
    "def train_step(model, opt_state, inputs, target):\n",
    "    \n",
    "    (loss_value, y_pred), grads = eqx.filter_value_and_grad(categorical_crossentropy, has_aux=True)(model, inputs, target)\n",
    "    \n",
    "    updates, opt_state = optim.update(grads, opt_state, model)\n",
    "    model = eqx.apply_updates(model, updates)\n",
    "    \n",
    "    accuracy = categorical_accuracy(target, y_pred)\n",
    "    \n",
    "    \n",
    "    return model, opt_state, loss_value, accuracy\n",
    "\n",
    "@eqx.filter_jit\n",
    "def test_step(model, inputs, target):\n",
    "    loss_value, y_pred = categorical_crossentropy(model, inputs, target)\n",
    "    \n",
    "    accuracy = categorical_accuracy(target, y_pred)\n",
    "    \n",
    "    return loss_value, accuracy"
   ],
   "metadata": {
    "collapsed": false,
    "ExecuteTime": {
     "end_time": "2023-12-27T19:57:47.635078700Z",
     "start_time": "2023-12-27T19:57:47.629553700Z"
    }
   },
   "id": "32027550e935df04"
  },
  {
   "cell_type": "code",
   "execution_count": 14,
   "outputs": [],
   "source": [
    "def batch(array, batch_size):\n",
    "    return np.array_split(array, np.ceil(len(array) / batch_size))"
   ],
   "metadata": {
    "collapsed": false,
    "ExecuteTime": {
     "end_time": "2023-12-27T19:57:47.643079100Z",
     "start_time": "2023-12-27T19:57:47.632563700Z"
    }
   },
   "id": "dd9d4d117e7157cc"
  },
  {
   "cell_type": "code",
   "execution_count": 15,
   "outputs": [],
   "source": [
    "optim = optax.adamax(0.002)\n",
    "opt_state = optim.init(eqx.filter(model, eqx.is_array))\n",
    "epochs = 20\n",
    "batch_size = 32"
   ],
   "metadata": {
    "collapsed": false,
    "ExecuteTime": {
     "end_time": "2023-12-27T19:57:47.799829500Z",
     "start_time": "2023-12-27T19:57:47.643079100Z"
    }
   },
   "id": "40935ad5d17ba8cc"
  },
  {
   "cell_type": "code",
   "execution_count": 16,
   "outputs": [],
   "source": [
    "x_train_batch = batch(x_train, batch_size=batch_size)\n",
    "y_train_batch = batch(y_train, batch_size=batch_size)\n",
    "\n",
    "x_test_batch = batch(x_test, batch_size=batch_size)\n",
    "y_test_batch = batch(y_test, batch_size=batch_size)"
   ],
   "metadata": {
    "collapsed": false,
    "ExecuteTime": {
     "end_time": "2023-12-27T19:57:49.587778300Z",
     "start_time": "2023-12-27T19:57:47.814019300Z"
    }
   },
   "id": "68b0bef5aaf0e4f"
  },
  {
   "cell_type": "code",
   "execution_count": 17,
   "outputs": [
    {
     "name": "stdout",
     "output_type": "stream",
     "text": [
      "Starting epoch: 1\n"
     ]
    },
    {
     "name": "stderr",
     "output_type": "stream",
     "text": [
      "100%|██████████| 1563/1563 [00:36<00:00, 43.29it/s]\n"
     ]
    },
    {
     "name": "stdout",
     "output_type": "stream",
     "text": [
      "Train Loss: 1.4758970737457275\n",
      "Train Accuracy: 0.5172615647315979\n"
     ]
    },
    {
     "name": "stderr",
     "output_type": "stream",
     "text": [
      "100%|██████████| 313/313 [00:05<00:00, 57.58it/s] \n"
     ]
    },
    {
     "name": "stdout",
     "output_type": "stream",
     "text": [
      "Test Loss: 1.1107656955718994\n",
      "Test Accuracy: 0.6330065131187439\n",
      "Starting epoch: 2\n"
     ]
    },
    {
     "name": "stderr",
     "output_type": "stream",
     "text": [
      "100%|██████████| 1563/1563 [00:21<00:00, 72.36it/s]\n"
     ]
    },
    {
     "name": "stdout",
     "output_type": "stream",
     "text": [
      "Train Loss: 1.092655897140503\n",
      "Train Accuracy: 0.6315327286720276\n"
     ]
    },
    {
     "name": "stderr",
     "output_type": "stream",
     "text": [
      "100%|██████████| 313/313 [00:01<00:00, 300.59it/s]\n"
     ]
    },
    {
     "name": "stdout",
     "output_type": "stream",
     "text": [
      "Test Loss: 1.0371507406234741\n",
      "Test Accuracy: 0.6539826393127441\n",
      "Starting epoch: 3\n"
     ]
    },
    {
     "name": "stderr",
     "output_type": "stream",
     "text": [
      "100%|██████████| 1563/1563 [00:21<00:00, 72.42it/s]\n"
     ]
    },
    {
     "name": "stdout",
     "output_type": "stream",
     "text": [
      "Train Loss: 1.041046380996704\n",
      "Train Accuracy: 0.6477462649345398\n"
     ]
    },
    {
     "name": "stderr",
     "output_type": "stream",
     "text": [
      "100%|██████████| 313/313 [00:01<00:00, 301.00it/s]\n"
     ]
    },
    {
     "name": "stdout",
     "output_type": "stream",
     "text": [
      "Test Loss: 0.9943450093269348\n",
      "Test Accuracy: 0.6703950762748718\n",
      "Starting epoch: 4\n"
     ]
    },
    {
     "name": "stderr",
     "output_type": "stream",
     "text": [
      "100%|██████████| 1563/1563 [00:21<00:00, 72.40it/s]\n"
     ]
    },
    {
     "name": "stdout",
     "output_type": "stream",
     "text": [
      "Train Loss: 1.000580906867981\n",
      "Train Accuracy: 0.6636670231819153\n"
     ]
    },
    {
     "name": "stderr",
     "output_type": "stream",
     "text": [
      "100%|██████████| 313/313 [00:01<00:00, 300.39it/s]\n"
     ]
    },
    {
     "name": "stdout",
     "output_type": "stream",
     "text": [
      "Test Loss: 0.9574816823005676\n",
      "Test Accuracy: 0.6839669346809387\n",
      "Starting epoch: 5\n"
     ]
    },
    {
     "name": "stderr",
     "output_type": "stream",
     "text": [
      "100%|██████████| 1563/1563 [00:21<00:00, 71.90it/s]\n"
     ]
    },
    {
     "name": "stdout",
     "output_type": "stream",
     "text": [
      "Train Loss: 0.9626046419143677\n",
      "Train Accuracy: 0.6762100458145142\n"
     ]
    },
    {
     "name": "stderr",
     "output_type": "stream",
     "text": [
      "100%|██████████| 313/313 [00:01<00:00, 297.00it/s]\n"
     ]
    },
    {
     "name": "stdout",
     "output_type": "stream",
     "text": [
      "Test Loss: 0.9245643615722656\n",
      "Test Accuracy: 0.6930556297302246\n",
      "Starting epoch: 6\n"
     ]
    },
    {
     "name": "stderr",
     "output_type": "stream",
     "text": [
      "100%|██████████| 1563/1563 [00:21<00:00, 71.91it/s]\n"
     ]
    },
    {
     "name": "stdout",
     "output_type": "stream",
     "text": [
      "Train Loss: 0.9228246212005615\n",
      "Train Accuracy: 0.6924512982368469\n"
     ]
    },
    {
     "name": "stderr",
     "output_type": "stream",
     "text": [
      "100%|██████████| 313/313 [00:01<00:00, 298.70it/s]\n"
     ]
    },
    {
     "name": "stdout",
     "output_type": "stream",
     "text": [
      "Test Loss: 0.8798932433128357\n",
      "Test Accuracy: 0.7123408913612366\n",
      "Starting epoch: 7\n"
     ]
    },
    {
     "name": "stderr",
     "output_type": "stream",
     "text": [
      "100%|██████████| 1563/1563 [00:21<00:00, 72.08it/s]\n"
     ]
    },
    {
     "name": "stdout",
     "output_type": "stream",
     "text": [
      "Train Loss: 0.8872103691101074\n",
      "Train Accuracy: 0.7077909111976624\n"
     ]
    },
    {
     "name": "stderr",
     "output_type": "stream",
     "text": [
      "100%|██████████| 313/313 [00:01<00:00, 293.96it/s]\n"
     ]
    },
    {
     "name": "stdout",
     "output_type": "stream",
     "text": [
      "Test Loss: 0.8317278027534485\n",
      "Test Accuracy: 0.7314683198928833\n",
      "Starting epoch: 8\n"
     ]
    },
    {
     "name": "stderr",
     "output_type": "stream",
     "text": [
      "100%|██████████| 1563/1563 [00:21<00:00, 71.05it/s]\n"
     ]
    },
    {
     "name": "stdout",
     "output_type": "stream",
     "text": [
      "Train Loss: 0.8447204828262329\n",
      "Train Accuracy: 0.7222456932067871\n"
     ]
    },
    {
     "name": "stderr",
     "output_type": "stream",
     "text": [
      "100%|██████████| 313/313 [00:01<00:00, 289.30it/s]\n"
     ]
    },
    {
     "name": "stdout",
     "output_type": "stream",
     "text": [
      "Test Loss: 0.7901082038879395\n",
      "Test Accuracy: 0.7469725608825684\n",
      "Starting epoch: 9\n"
     ]
    },
    {
     "name": "stderr",
     "output_type": "stream",
     "text": [
      "100%|██████████| 1563/1563 [00:22<00:00, 69.86it/s]\n"
     ]
    },
    {
     "name": "stdout",
     "output_type": "stream",
     "text": [
      "Train Loss: 0.8224063515663147\n",
      "Train Accuracy: 0.7312434315681458\n"
     ]
    },
    {
     "name": "stderr",
     "output_type": "stream",
     "text": [
      "100%|██████████| 313/313 [00:01<00:00, 290.13it/s]\n"
     ]
    },
    {
     "name": "stdout",
     "output_type": "stream",
     "text": [
      "Test Loss: 0.7689432501792908\n",
      "Test Accuracy: 0.753678023815155\n",
      "Starting epoch: 10\n"
     ]
    },
    {
     "name": "stderr",
     "output_type": "stream",
     "text": [
      "100%|██████████| 1563/1563 [00:22<00:00, 69.90it/s]\n"
     ]
    },
    {
     "name": "stdout",
     "output_type": "stream",
     "text": [
      "Train Loss: 0.8035842776298523\n",
      "Train Accuracy: 0.7373834252357483\n"
     ]
    },
    {
     "name": "stderr",
     "output_type": "stream",
     "text": [
      "100%|██████████| 313/313 [00:01<00:00, 289.58it/s]\n"
     ]
    },
    {
     "name": "stdout",
     "output_type": "stream",
     "text": [
      "Test Loss: 0.7547426223754883\n",
      "Test Accuracy: 0.7575717568397522\n",
      "Starting epoch: 11\n"
     ]
    },
    {
     "name": "stderr",
     "output_type": "stream",
     "text": [
      "100%|██████████| 1563/1563 [00:22<00:00, 69.89it/s]\n"
     ]
    },
    {
     "name": "stdout",
     "output_type": "stream",
     "text": [
      "Train Loss: 0.7880181670188904\n",
      "Train Accuracy: 0.7418838739395142\n"
     ]
    },
    {
     "name": "stderr",
     "output_type": "stream",
     "text": [
      "100%|██████████| 313/313 [00:01<00:00, 289.19it/s]\n"
     ]
    },
    {
     "name": "stdout",
     "output_type": "stream",
     "text": [
      "Test Loss: 0.7462584972381592\n",
      "Test Accuracy: 0.7592658400535583\n",
      "Starting epoch: 12\n"
     ]
    },
    {
     "name": "stderr",
     "output_type": "stream",
     "text": [
      "100%|██████████| 1563/1563 [00:22<00:00, 69.95it/s]\n"
     ]
    },
    {
     "name": "stdout",
     "output_type": "stream",
     "text": [
      "Train Loss: 0.7770360112190247\n",
      "Train Accuracy: 0.7462831139564514\n"
     ]
    },
    {
     "name": "stderr",
     "output_type": "stream",
     "text": [
      "100%|██████████| 313/313 [00:01<00:00, 289.74it/s]\n"
     ]
    },
    {
     "name": "stdout",
     "output_type": "stream",
     "text": [
      "Test Loss: 0.7386224865913391\n",
      "Test Accuracy: 0.7616523504257202\n",
      "Starting epoch: 13\n"
     ]
    },
    {
     "name": "stderr",
     "output_type": "stream",
     "text": [
      "100%|██████████| 1563/1563 [00:22<00:00, 69.94it/s]\n"
     ]
    },
    {
     "name": "stdout",
     "output_type": "stream",
     "text": [
      "Train Loss: 0.7676261067390442\n",
      "Train Accuracy: 0.7487037181854248\n"
     ]
    },
    {
     "name": "stderr",
     "output_type": "stream",
     "text": [
      "100%|██████████| 313/313 [00:01<00:00, 289.50it/s]\n"
     ]
    },
    {
     "name": "stdout",
     "output_type": "stream",
     "text": [
      "Test Loss: 0.7289990186691284\n",
      "Test Accuracy: 0.7638456225395203\n",
      "Starting epoch: 14\n"
     ]
    },
    {
     "name": "stderr",
     "output_type": "stream",
     "text": [
      "100%|██████████| 1563/1563 [00:22<00:00, 69.93it/s]\n"
     ]
    },
    {
     "name": "stdout",
     "output_type": "stream",
     "text": [
      "Train Loss: 0.7605056166648865\n",
      "Train Accuracy: 0.7511241436004639\n"
     ]
    },
    {
     "name": "stderr",
     "output_type": "stream",
     "text": [
      "100%|██████████| 313/313 [00:01<00:00, 289.31it/s]\n"
     ]
    },
    {
     "name": "stdout",
     "output_type": "stream",
     "text": [
      "Test Loss: 0.7212004661560059\n",
      "Test Accuracy: 0.7659390568733215\n",
      "Starting epoch: 15\n"
     ]
    },
    {
     "name": "stderr",
     "output_type": "stream",
     "text": [
      "100%|██████████| 1563/1563 [00:22<00:00, 69.94it/s]\n"
     ]
    },
    {
     "name": "stdout",
     "output_type": "stream",
     "text": [
      "Train Loss: 0.7543898224830627\n",
      "Train Accuracy: 0.7530048489570618\n"
     ]
    },
    {
     "name": "stderr",
     "output_type": "stream",
     "text": [
      "100%|██████████| 313/313 [00:01<00:00, 289.71it/s]\n"
     ]
    },
    {
     "name": "stdout",
     "output_type": "stream",
     "text": [
      "Test Loss: 0.7142605781555176\n",
      "Test Accuracy: 0.7672305107116699\n",
      "Starting epoch: 16\n"
     ]
    },
    {
     "name": "stderr",
     "output_type": "stream",
     "text": [
      "100%|██████████| 1563/1563 [00:22<00:00, 69.83it/s]\n"
     ]
    },
    {
     "name": "stdout",
     "output_type": "stream",
     "text": [
      "Train Loss: 0.7480621337890625\n",
      "Train Accuracy: 0.7545230984687805\n"
     ]
    },
    {
     "name": "stderr",
     "output_type": "stream",
     "text": [
      "100%|██████████| 313/313 [00:01<00:00, 287.97it/s]\n"
     ]
    },
    {
     "name": "stdout",
     "output_type": "stream",
     "text": [
      "Test Loss: 0.7074794173240662\n",
      "Test Accuracy: 0.7705317139625549\n",
      "Starting epoch: 17\n"
     ]
    },
    {
     "name": "stderr",
     "output_type": "stream",
     "text": [
      "100%|██████████| 1563/1563 [00:22<00:00, 69.77it/s]\n"
     ]
    },
    {
     "name": "stdout",
     "output_type": "stream",
     "text": [
      "Train Loss: 0.7426234483718872\n",
      "Train Accuracy: 0.7563456892967224\n"
     ]
    },
    {
     "name": "stderr",
     "output_type": "stream",
     "text": [
      "100%|██████████| 313/313 [00:01<00:00, 249.80it/s]\n"
     ]
    },
    {
     "name": "stdout",
     "output_type": "stream",
     "text": [
      "Test Loss: 0.703238308429718\n",
      "Test Accuracy: 0.7727314233779907\n",
      "Starting epoch: 18\n"
     ]
    },
    {
     "name": "stderr",
     "output_type": "stream",
     "text": [
      "100%|██████████| 1563/1563 [00:21<00:00, 71.71it/s]\n"
     ]
    },
    {
     "name": "stdout",
     "output_type": "stream",
     "text": [
      "Train Loss: 0.7376511096954346\n",
      "Train Accuracy: 0.7574840188026428\n"
     ]
    },
    {
     "name": "stderr",
     "output_type": "stream",
     "text": [
      "100%|██████████| 313/313 [00:01<00:00, 295.94it/s]\n"
     ]
    },
    {
     "name": "stdout",
     "output_type": "stream",
     "text": [
      "Test Loss: 0.6981175541877747\n",
      "Test Accuracy: 0.7742483019828796\n",
      "Starting epoch: 19\n"
     ]
    },
    {
     "name": "stderr",
     "output_type": "stream",
     "text": [
      "100%|██████████| 1563/1563 [00:21<00:00, 72.65it/s]\n"
     ]
    },
    {
     "name": "stdout",
     "output_type": "stream",
     "text": [
      "Train Loss: 0.7335332632064819\n",
      "Train Accuracy: 0.7587036490440369\n"
     ]
    },
    {
     "name": "stderr",
     "output_type": "stream",
     "text": [
      "100%|██████████| 313/313 [00:01<00:00, 303.13it/s]\n"
     ]
    },
    {
     "name": "stdout",
     "output_type": "stream",
     "text": [
      "Test Loss: 0.6942533254623413\n",
      "Test Accuracy: 0.7762483358383179\n",
      "Starting epoch: 20\n"
     ]
    },
    {
     "name": "stderr",
     "output_type": "stream",
     "text": [
      "100%|██████████| 1563/1563 [00:21<00:00, 73.21it/s]\n"
     ]
    },
    {
     "name": "stdout",
     "output_type": "stream",
     "text": [
      "Train Loss: 0.7295634746551514\n",
      "Train Accuracy: 0.759443461894989\n"
     ]
    },
    {
     "name": "stderr",
     "output_type": "stream",
     "text": [
      "100%|██████████| 313/313 [00:01<00:00, 298.47it/s]\n"
     ]
    },
    {
     "name": "stdout",
     "output_type": "stream",
     "text": [
      "Test Loss: 0.6877160668373108\n",
      "Test Accuracy: 0.7765575051307678\n"
     ]
    }
   ],
   "source": [
    "for step in range(epochs):\n",
    "    accuracys = deque()\n",
    "    losss = deque()\n",
    "    print(f\"Starting epoch: {step + 1}\")\n",
    "    \n",
    "    for (x_batch, y_batch) in tqdm(zip(x_train_batch, y_train_batch), total=len(x_train_batch)):\n",
    "        model, opt_state, loss_val, accuracy = train_step(model, opt_state, x_batch, y_batch)\n",
    "        accuracys.append(accuracy)\n",
    "        losss.append(loss_val)\n",
    "    print(f\"Train Loss: {np.mean(losss)}\")\n",
    "    print(f\"Train Accuracy: {np.mean(accuracys)}\")\n",
    "    \n",
    "    test_accuracys = deque()\n",
    "    test_losss = deque()\n",
    "    for (x_batch, y_batch) in tqdm(zip(x_test_batch, y_test_batch), total=len(x_test_batch)):\n",
    "        loss_val, accuracy = test_step(model, x_batch, y_batch)\n",
    "        \n",
    "        test_accuracys.append(accuracy)\n",
    "        test_losss.append(loss_val)\n",
    "    print(f\"Test Loss: {np.mean(test_losss)}\")\n",
    "    print(f\"Test Accuracy: {np.mean(test_accuracys)}\")\n",
    "        "
   ],
   "metadata": {
    "collapsed": false,
    "ExecuteTime": {
     "end_time": "2023-12-27T20:06:03.440548200Z",
     "start_time": "2023-12-27T19:57:49.587778300Z"
    }
   },
   "id": "d926d15dcca96cf6"
  },
  {
   "cell_type": "code",
   "execution_count": 17,
   "outputs": [],
   "source": [],
   "metadata": {
    "collapsed": false,
    "ExecuteTime": {
     "end_time": "2023-12-27T20:06:03.440548200Z",
     "start_time": "2023-12-27T20:06:03.437545700Z"
    }
   },
   "id": "647ee35bd842a093"
  }
 ],
 "metadata": {
  "kernelspec": {
   "display_name": "Python 3",
   "language": "python",
   "name": "python3"
  },
  "language_info": {
   "codemirror_mode": {
    "name": "ipython",
    "version": 2
   },
   "file_extension": ".py",
   "mimetype": "text/x-python",
   "name": "python",
   "nbconvert_exporter": "python",
   "pygments_lexer": "ipython2",
   "version": "2.7.6"
  }
 },
 "nbformat": 4,
 "nbformat_minor": 5
}
